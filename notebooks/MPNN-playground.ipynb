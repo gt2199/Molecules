{
 "cells": [
  {
   "cell_type": "code",
   "execution_count": 1,
   "id": "1489a440",
   "metadata": {},
   "outputs": [],
   "source": [
    "import tensorflow as tf\n",
    "from tensorflow import keras\n",
    "from tensorflow.keras import layers\n",
    "import numpy as np\n",
    "import pandas as pd\n",
    "import matplotlib.pyplot as plt\n",
    "import seaborn as sns\n",
    "import warnings\n",
    "from rdkit import Chem\n",
    "from rdkit import RDLogger\n",
    "from rdkit.Chem.Draw import IPythonConsole\n",
    "from rdkit.Chem.Draw import MolsToGridImage\n",
    "from sklearn.model_selection import train_test_split\n",
    "from sklearn.metrics import mean_squared_error\n",
    "from sklearn.metrics import r2_score\n",
    "from sklearn.preprocessing import StandardScaler"
   ]
  },
  {
   "cell_type": "code",
   "execution_count": 2,
   "id": "a0fbae2d",
   "metadata": {},
   "outputs": [],
   "source": [
    "warnings.filterwarnings(\"ignore\")\n",
    "RDLogger.DisableLog(\"rdApp.*\")"
   ]
  },
  {
   "cell_type": "code",
   "execution_count": 3,
   "id": "3eefed31",
   "metadata": {},
   "outputs": [],
   "source": [
    "df = pd.read_csv('../data/data_cleaned.csv')"
   ]
  },
  {
   "cell_type": "code",
   "execution_count": 4,
   "id": "068ebe13",
   "metadata": {},
   "outputs": [],
   "source": [
    "df = df.head(1000)"
   ]
  },
  {
   "cell_type": "code",
   "execution_count": 5,
   "id": "f3c92fee",
   "metadata": {},
   "outputs": [
    {
     "data": {
      "text/plain": [
       "Index(['index', 'tag', 'A', 'B', 'C', 'mu', 'alpha', 'homo', 'lumo', 'gap',\n",
       "       'r2', 'zpve', 'U0', 'U', 'H', 'G', 'Cv', 'SMILES_GDB9',\n",
       "       'SMILES_relaxed'],\n",
       "      dtype='object')"
      ]
     },
     "execution_count": 5,
     "metadata": {},
     "output_type": "execute_result"
    }
   ],
   "source": [
    "df.columns"
   ]
  },
  {
   "cell_type": "markdown",
   "id": "727e3770",
   "metadata": {},
   "source": [
    "## Define features"
   ]
  },
  {
   "cell_type": "markdown",
   "id": "b8d7a131",
   "metadata": {},
   "source": [
    "These classes are meant to define the types of atom and bond that are present in a molecule.\n",
    "https://keras.io/examples/graph/mpnn-molecular-graphs/"
   ]
  },
  {
   "cell_type": "code",
   "execution_count": 101,
   "id": "4f4b34e8",
   "metadata": {},
   "outputs": [],
   "source": [
    "class Featurizer:\n",
    "    def __init__(self, allowable_sets):\n",
    "        self.dim = 0\n",
    "        self.features_mapping = {}\n",
    "        for k, s in allowable_sets.items():\n",
    "            s = sorted(list(s))\n",
    "            self.features_mapping[k] = dict(zip(s, range(self.dim, len(s) + self.dim)))\n",
    "            self.dim += len(s)\n",
    "\n",
    "    def encode(self, inputs):\n",
    "        output = np.zeros((self.dim,))\n",
    "        for name_feature, feature_mapping in self.features_mapping.items():\n",
    "            print(name_feature, feature_mapping)\n",
    "            feature = getattr(self, name_feature)(inputs)\n",
    "            print(feature)\n",
    "            if feature not in feature_mapping:\n",
    "                continue\n",
    "            output[feature_mapping[feature]] = 1.0\n",
    "        return output\n",
    "\n",
    "\n",
    "class AtomFeaturizer(Featurizer):\n",
    "    def __init__(self, allowable_sets):\n",
    "        super().__init__(allowable_sets)\n",
    "\n",
    "    def symbol(self, atom):\n",
    "        return atom.GetSymbol()\n",
    "\n",
    "    def n_valence(self, atom):\n",
    "        return atom.GetTotalValence()\n",
    "\n",
    "    def n_hydrogens(self, atom):\n",
    "        return atom.GetTotalNumHs()\n",
    "\n",
    "    def hybridization(self, atom):\n",
    "        return atom.GetHybridization().name.lower()\n",
    "\n",
    "\n",
    "class BondFeaturizer(Featurizer):\n",
    "    def __init__(self, allowable_sets):\n",
    "        super().__init__(allowable_sets)\n",
    "        self.dim += 1\n",
    "\n",
    "    def encode(self, bond):\n",
    "        output = np.zeros((self.dim,))\n",
    "        if bond is None:\n",
    "            output[-1] = 1.0\n",
    "            return output\n",
    "        output = super().encode(bond)\n",
    "        return output\n",
    "\n",
    "    def bond_type(self, bond):\n",
    "        return bond.GetBondType().name.lower()\n",
    "\n",
    "    def conjugated(self, bond):\n",
    "        return bond.GetIsConjugated()\n",
    "\n",
    "\n",
    "atom_featurizer = AtomFeaturizer(\n",
    "    allowable_sets={\n",
    "        \"symbol\": {\"B\", \"Br\", \"C\", \"Ca\", \"Cl\", \"F\", \"H\", \"I\", \"N\", \"Na\", \"O\", \"P\", \"S\"},\n",
    "        \"n_valence\": {0, 1, 2, 3, 4, 5, 6},\n",
    "        \"n_hydrogens\": {0, 1, 2, 3, 4},\n",
    "        \"hybridization\": {\"s\", \"sp\", \"sp2\", \"sp3\"},})\n",
    "\n",
    "bond_featurizer = BondFeaturizer(\n",
    "    allowable_sets={\n",
    "        \"bond_type\": {\"single\", \"double\", \"triple\", \"aromatic\"},\n",
    "        \"conjugated\": {True, False},})"
   ]
  },
  {
   "cell_type": "markdown",
   "id": "12185e05",
   "metadata": {},
   "source": [
    "## Define graphs"
   ]
  },
  {
   "cell_type": "markdown",
   "id": "47c5a9bb",
   "metadata": {},
   "source": [
    "Here, these functions are used to convert smiles to molecules and molecules to graph.\n",
    "https://keras.io/examples/graph/mpnn-molecular-graphs/"
   ]
  },
  {
   "cell_type": "code",
   "execution_count": 7,
   "id": "a59a5bfe",
   "metadata": {},
   "outputs": [],
   "source": [
    "def molecule_from_smiles(smiles):\n",
    "    # MolFromSmiles(m, sanitize=True) should be equivalent to\n",
    "    # MolFromSmiles(m, sanitize=False) -> SanitizeMol(m) -> AssignStereochemistry(m, ...)\n",
    "    molecule = Chem.MolFromSmiles(smiles, sanitize=False)\n",
    "\n",
    "    # If sanitization is unsuccessful, catch the error, and try again without\n",
    "    # the sanitization step that caused the error\n",
    "    flag = Chem.SanitizeMol(molecule, catchErrors=True)\n",
    "    if flag != Chem.SanitizeFlags.SANITIZE_NONE:\n",
    "        Chem.SanitizeMol(molecule, sanitizeOps=Chem.SanitizeFlags.SANITIZE_ALL ^ flag)\n",
    "\n",
    "    Chem.AssignStereochemistry(molecule, cleanIt=True, force=True)\n",
    "    return molecule\n",
    "\n",
    "\n",
    "def graph_from_molecule(molecule):\n",
    "    # Initialize graph\n",
    "    atom_features = []\n",
    "    bond_features = []\n",
    "    pair_indices = []\n",
    "\n",
    "    for atom in molecule.GetAtoms():\n",
    "        atom_features.append(atom_featurizer.encode(atom))\n",
    "\n",
    "        # Add self-loops\n",
    "        pair_indices.append([atom.GetIdx(), atom.GetIdx()])\n",
    "        bond_features.append(bond_featurizer.encode(None))\n",
    "\n",
    "        for neighbor in atom.GetNeighbors():\n",
    "            bond = molecule.GetBondBetweenAtoms(atom.GetIdx(), neighbor.GetIdx())\n",
    "            pair_indices.append([atom.GetIdx(), neighbor.GetIdx()])\n",
    "            bond_features.append(bond_featurizer.encode(bond))\n",
    "\n",
    "    return np.array(atom_features), np.array(bond_features), np.array(pair_indices)\n",
    "\n",
    "\n",
    "def graphs_from_smiles(smiles_list):\n",
    "    # Initialize graphs\n",
    "    atom_features_list = []\n",
    "    bond_features_list = []\n",
    "    pair_indices_list = []\n",
    "\n",
    "    for smiles in smiles_list:\n",
    "        molecule = molecule_from_smiles(smiles)\n",
    "        atom_features, bond_features, pair_indices = graph_from_molecule(molecule)\n",
    "\n",
    "        atom_features_list.append(atom_features)\n",
    "        bond_features_list.append(bond_features)\n",
    "        pair_indices_list.append(pair_indices)\n",
    "\n",
    "    # Convert lists to ragged tensors for tf.data.Dataset later on\n",
    "    return (\n",
    "        tf.ragged.constant(atom_features_list, dtype=tf.float32),\n",
    "        tf.ragged.constant(bond_features_list, dtype=tf.float32),\n",
    "        tf.ragged.constant(pair_indices_list, dtype=tf.int64),)\n"
   ]
  },
  {
   "cell_type": "code",
   "execution_count": 48,
   "id": "7f65ed48",
   "metadata": {},
   "outputs": [
    {
     "data": {
      "image/png": "[encoded data removed]",
      "text/plain": [
       "<rdkit.Chem.rdchem.Mol at 0x178101760>"
      ]
     },
     "execution_count": 48,
     "metadata": {},
     "output_type": "execute_result"
    }
   ],
   "source": [
    "test_molecule = Chem.MolFromSmiles('CCC(C)CC', sanitize=False)\n",
    "test_molecule"
   ]
  },
  {
   "cell_type": "code",
   "execution_count": 102,
   "id": "6520504d",
   "metadata": {},
   "outputs": [
    {
     "name": "stdout",
     "output_type": "stream",
     "text": [
      "symbol {'B': 0, 'Br': 1, 'C': 2, 'Ca': 3, 'Cl': 4, 'F': 5, 'H': 6, 'I': 7, 'N': 8, 'Na': 9, 'O': 10, 'P': 11, 'S': 12}\n",
      "C\n",
      "n_valence {0: 13, 1: 14, 2: 15, 3: 16, 4: 17, 5: 18, 6: 19}\n",
      "4\n",
      "n_hydrogens {0: 20, 1: 21, 2: 22, 3: 23, 4: 24}\n",
      "3\n",
      "hybridization {'s': 25, 'sp': 26, 'sp2': 27, 'sp3': 28}\n",
      "unspecified\n",
      "[0. 0. 1. 0. 0. 0. 0. 0. 0. 0. 0. 0. 0. 0. 0. 0. 0. 1. 0. 0. 0. 0. 0. 1.\n",
      " 0. 0. 0. 0. 0.]\n",
      "symbol {'B': 0, 'Br': 1, 'C': 2, 'Ca': 3, 'Cl': 4, 'F': 5, 'H': 6, 'I': 7, 'N': 8, 'Na': 9, 'O': 10, 'P': 11, 'S': 12}\n",
      "C\n",
      "n_valence {0: 13, 1: 14, 2: 15, 3: 16, 4: 17, 5: 18, 6: 19}\n",
      "4\n",
      "n_hydrogens {0: 20, 1: 21, 2: 22, 3: 23, 4: 24}\n",
      "2\n",
      "hybridization {'s': 25, 'sp': 26, 'sp2': 27, 'sp3': 28}\n",
      "unspecified\n",
      "[0. 0. 1. 0. 0. 0. 0. 0. 0. 0. 0. 0. 0. 0. 0. 0. 0. 1. 0. 0. 0. 0. 1. 0.\n",
      " 0. 0. 0. 0. 0.]\n",
      "symbol {'B': 0, 'Br': 1, 'C': 2, 'Ca': 3, 'Cl': 4, 'F': 5, 'H': 6, 'I': 7, 'N': 8, 'Na': 9, 'O': 10, 'P': 11, 'S': 12}\n",
      "C\n",
      "n_valence {0: 13, 1: 14, 2: 15, 3: 16, 4: 17, 5: 18, 6: 19}\n",
      "4\n",
      "n_hydrogens {0: 20, 1: 21, 2: 22, 3: 23, 4: 24}\n",
      "1\n",
      "hybridization {'s': 25, 'sp': 26, 'sp2': 27, 'sp3': 28}\n",
      "unspecified\n",
      "[0. 0. 1. 0. 0. 0. 0. 0. 0. 0. 0. 0. 0. 0. 0. 0. 0. 1. 0. 0. 0. 1. 0. 0.\n",
      " 0. 0. 0. 0. 0.]\n",
      "symbol {'B': 0, 'Br': 1, 'C': 2, 'Ca': 3, 'Cl': 4, 'F': 5, 'H': 6, 'I': 7, 'N': 8, 'Na': 9, 'O': 10, 'P': 11, 'S': 12}\n",
      "C\n",
      "n_valence {0: 13, 1: 14, 2: 15, 3: 16, 4: 17, 5: 18, 6: 19}\n",
      "4\n",
      "n_hydrogens {0: 20, 1: 21, 2: 22, 3: 23, 4: 24}\n",
      "3\n",
      "hybridization {'s': 25, 'sp': 26, 'sp2': 27, 'sp3': 28}\n",
      "unspecified\n",
      "[0. 0. 1. 0. 0. 0. 0. 0. 0. 0. 0. 0. 0. 0. 0. 0. 0. 1. 0. 0. 0. 0. 0. 1.\n",
      " 0. 0. 0. 0. 0.]\n",
      "symbol {'B': 0, 'Br': 1, 'C': 2, 'Ca': 3, 'Cl': 4, 'F': 5, 'H': 6, 'I': 7, 'N': 8, 'Na': 9, 'O': 10, 'P': 11, 'S': 12}\n",
      "C\n",
      "n_valence {0: 13, 1: 14, 2: 15, 3: 16, 4: 17, 5: 18, 6: 19}\n",
      "4\n",
      "n_hydrogens {0: 20, 1: 21, 2: 22, 3: 23, 4: 24}\n",
      "2\n",
      "hybridization {'s': 25, 'sp': 26, 'sp2': 27, 'sp3': 28}\n",
      "unspecified\n",
      "[0. 0. 1. 0. 0. 0. 0. 0. 0. 0. 0. 0. 0. 0. 0. 0. 0. 1. 0. 0. 0. 0. 1. 0.\n",
      " 0. 0. 0. 0. 0.]\n",
      "symbol {'B': 0, 'Br': 1, 'C': 2, 'Ca': 3, 'Cl': 4, 'F': 5, 'H': 6, 'I': 7, 'N': 8, 'Na': 9, 'O': 10, 'P': 11, 'S': 12}\n",
      "C\n",
      "n_valence {0: 13, 1: 14, 2: 15, 3: 16, 4: 17, 5: 18, 6: 19}\n",
      "4\n",
      "n_hydrogens {0: 20, 1: 21, 2: 22, 3: 23, 4: 24}\n",
      "3\n",
      "hybridization {'s': 25, 'sp': 26, 'sp2': 27, 'sp3': 28}\n",
      "unspecified\n",
      "[0. 0. 1. 0. 0. 0. 0. 0. 0. 0. 0. 0. 0. 0. 0. 0. 0. 1. 0. 0. 0. 0. 0. 1.\n",
      " 0. 0. 0. 0. 0.]\n"
     ]
    }
   ],
   "source": [
    "for atom in test_molecule.GetAtoms():\n",
    "    print(atom_featurizer.encode(atom))"
   ]
  },
  {
   "cell_type": "code",
   "execution_count": 106,
   "id": "032163e1",
   "metadata": {},
   "outputs": [
    {
     "name": "stdout",
     "output_type": "stream",
     "text": [
      "0 0\n",
      "[0. 0. 0. 0. 0. 0. 1.]\n",
      "0 0\n",
      "bond_type {'aromatic': 0, 'double': 1, 'single': 2, 'triple': 3}\n",
      "single\n",
      "conjugated {False: 4, True: 5}\n",
      "False\n",
      "[0. 0. 1. 0. 1. 0. 0.]\n",
      "1 1\n",
      "[0. 0. 0. 0. 0. 0. 1.]\n",
      "1 1\n",
      "bond_type {'aromatic': 0, 'double': 1, 'single': 2, 'triple': 3}\n",
      "single\n",
      "conjugated {False: 4, True: 5}\n",
      "False\n",
      "[0. 0. 1. 0. 1. 0. 0.]\n",
      "1 1\n",
      "bond_type {'aromatic': 0, 'double': 1, 'single': 2, 'triple': 3}\n",
      "single\n",
      "conjugated {False: 4, True: 5}\n",
      "False\n",
      "[0. 0. 1. 0. 1. 0. 0.]\n",
      "2 2\n",
      "[0. 0. 0. 0. 0. 0. 1.]\n",
      "2 2\n",
      "bond_type {'aromatic': 0, 'double': 1, 'single': 2, 'triple': 3}\n",
      "single\n",
      "conjugated {False: 4, True: 5}\n",
      "False\n",
      "[0. 0. 1. 0. 1. 0. 0.]\n",
      "2 2\n",
      "bond_type {'aromatic': 0, 'double': 1, 'single': 2, 'triple': 3}\n",
      "single\n",
      "conjugated {False: 4, True: 5}\n",
      "False\n",
      "[0. 0. 1. 0. 1. 0. 0.]\n",
      "2 2\n",
      "bond_type {'aromatic': 0, 'double': 1, 'single': 2, 'triple': 3}\n",
      "single\n",
      "conjugated {False: 4, True: 5}\n",
      "False\n",
      "[0. 0. 1. 0. 1. 0. 0.]\n",
      "3 3\n",
      "[0. 0. 0. 0. 0. 0. 1.]\n",
      "3 3\n",
      "bond_type {'aromatic': 0, 'double': 1, 'single': 2, 'triple': 3}\n",
      "single\n",
      "conjugated {False: 4, True: 5}\n",
      "False\n",
      "[0. 0. 1. 0. 1. 0. 0.]\n",
      "4 4\n",
      "[0. 0. 0. 0. 0. 0. 1.]\n",
      "4 4\n",
      "bond_type {'aromatic': 0, 'double': 1, 'single': 2, 'triple': 3}\n",
      "single\n",
      "conjugated {False: 4, True: 5}\n",
      "False\n",
      "[0. 0. 1. 0. 1. 0. 0.]\n",
      "4 4\n",
      "bond_type {'aromatic': 0, 'double': 1, 'single': 2, 'triple': 3}\n",
      "single\n",
      "conjugated {False: 4, True: 5}\n",
      "False\n",
      "[0. 0. 1. 0. 1. 0. 0.]\n",
      "5 5\n",
      "[0. 0. 0. 0. 0. 0. 1.]\n",
      "5 5\n",
      "bond_type {'aromatic': 0, 'double': 1, 'single': 2, 'triple': 3}\n",
      "single\n",
      "conjugated {False: 4, True: 5}\n",
      "False\n",
      "[0. 0. 1. 0. 1. 0. 0.]\n"
     ]
    }
   ],
   "source": [
    "for atom in test_molecule.GetAtoms():\n",
    "#     atom_features.append(atom_featurizer.encode(atom))\n",
    "\n",
    "#     # Add self-loops\n",
    "#     pair_indices.append([atom.GetIdx(), atom.GetIdx()])\n",
    "#     bond_features.append(bond_featurizer.encode(None))\n",
    "    print(atom.GetIdx(), atom.GetIdx())\n",
    "    print(bond_featurizer.encode(None))\n",
    "\n",
    "    for neighbor in atom.GetNeighbors():\n",
    "        bond = test_molecule.GetBondBetweenAtoms(atom.GetIdx(), neighbor.GetIdx())\n",
    "#         pair_indices.append([atom.GetIdx(), neighbor.GetIdx()])\n",
    "#         bond_features.append(bond_featurizer.encode(bond))\n",
    "        print(atom.GetIdx(), atom.GetIdx())\n",
    "        print(bond_featurizer.encode(bond))"
   ]
  },
  {
   "cell_type": "code",
   "execution_count": 49,
   "id": "2fe5119d",
   "metadata": {},
   "outputs": [],
   "source": [
    "a,b,c = graphs_from_smiles(X_train[:1])"
   ]
  },
  {
   "cell_type": "code",
   "execution_count": 107,
   "id": "8fa930d8",
   "metadata": {},
   "outputs": [
    {
     "data": {
      "text/plain": [
       "<tf.RaggedTensor [[[0.0, 0.0, 1.0, 0.0, 0.0, 0.0, 0.0, 0.0, 0.0, 0.0, 0.0, 0.0, 0.0, 0.0,\n",
       "   0.0, 0.0, 0.0, 1.0, 0.0, 0.0, 0.0, 0.0, 0.0, 1.0, 0.0, 0.0, 0.0, 0.0,\n",
       "   1.0],\n",
       "  [0.0, 0.0, 1.0, 0.0, 0.0, 0.0, 0.0, 0.0, 0.0, 0.0, 0.0, 0.0, 0.0, 0.0,\n",
       "   0.0, 0.0, 0.0, 1.0, 0.0, 0.0, 0.0, 0.0, 1.0, 0.0, 0.0, 0.0, 0.0, 0.0,\n",
       "   1.0],\n",
       "  [0.0, 0.0, 1.0, 0.0, 0.0, 0.0, 0.0, 0.0, 0.0, 0.0, 0.0, 0.0, 0.0, 0.0,\n",
       "   0.0, 0.0, 0.0, 1.0, 0.0, 0.0, 0.0, 1.0, 0.0, 0.0, 0.0, 0.0, 0.0, 0.0,\n",
       "   1.0],\n",
       "  [0.0, 0.0, 1.0, 0.0, 0.0, 0.0, 0.0, 0.0, 0.0, 0.0, 0.0, 0.0, 0.0, 0.0,\n",
       "   0.0, 0.0, 0.0, 1.0, 0.0, 0.0, 0.0, 0.0, 0.0, 1.0, 0.0, 0.0, 0.0, 0.0,\n",
       "   1.0],\n",
       "  [0.0, 0.0, 1.0, 0.0, 0.0, 0.0, 0.0, 0.0, 0.0, 0.0, 0.0, 0.0, 0.0, 0.0,\n",
       "   0.0, 0.0, 0.0, 1.0, 0.0, 0.0, 0.0, 0.0, 1.0, 0.0, 0.0, 0.0, 0.0, 0.0,\n",
       "   1.0],\n",
       "  [0.0, 0.0, 1.0, 0.0, 0.0, 0.0, 0.0, 0.0, 0.0, 0.0, 0.0, 0.0, 0.0, 0.0,\n",
       "   0.0, 0.0, 0.0, 1.0, 0.0, 0.0, 0.0, 0.0, 0.0, 1.0, 0.0, 0.0, 0.0, 0.0,\n",
       "   1.0]]]>"
      ]
     },
     "execution_count": 107,
     "metadata": {},
     "output_type": "execute_result"
    }
   ],
   "source": [
    "a"
   ]
  },
  {
   "cell_type": "code",
   "execution_count": 108,
   "id": "51ee2119",
   "metadata": {},
   "outputs": [
    {
     "data": {
      "text/plain": [
       "<tf.RaggedTensor [[[0.0, 0.0, 0.0, 0.0, 0.0, 0.0, 1.0],\n",
       "  [0.0, 0.0, 1.0, 0.0, 1.0, 0.0, 0.0],\n",
       "  [0.0, 0.0, 0.0, 0.0, 0.0, 0.0, 1.0],\n",
       "  [0.0, 0.0, 1.0, 0.0, 1.0, 0.0, 0.0],\n",
       "  [0.0, 0.0, 1.0, 0.0, 1.0, 0.0, 0.0],\n",
       "  [0.0, 0.0, 0.0, 0.0, 0.0, 0.0, 1.0],\n",
       "  [0.0, 0.0, 1.0, 0.0, 1.0, 0.0, 0.0],\n",
       "  [0.0, 0.0, 1.0, 0.0, 1.0, 0.0, 0.0],\n",
       "  [0.0, 0.0, 1.0, 0.0, 1.0, 0.0, 0.0],\n",
       "  [0.0, 0.0, 0.0, 0.0, 0.0, 0.0, 1.0],\n",
       "  [0.0, 0.0, 1.0, 0.0, 1.0, 0.0, 0.0],\n",
       "  [0.0, 0.0, 0.0, 0.0, 0.0, 0.0, 1.0],\n",
       "  [0.0, 0.0, 1.0, 0.0, 1.0, 0.0, 0.0],\n",
       "  [0.0, 0.0, 1.0, 0.0, 1.0, 0.0, 0.0],\n",
       "  [0.0, 0.0, 0.0, 0.0, 0.0, 0.0, 1.0],\n",
       "  [0.0, 0.0, 1.0, 0.0, 1.0, 0.0, 0.0]]]>"
      ]
     },
     "execution_count": 108,
     "metadata": {},
     "output_type": "execute_result"
    }
   ],
   "source": [
    "b"
   ]
  },
  {
   "cell_type": "code",
   "execution_count": 109,
   "id": "43e12aaf",
   "metadata": {},
   "outputs": [
    {
     "data": {
      "text/plain": [
       "<tf.RaggedTensor [[[0, 0],\n",
       "  [0, 1],\n",
       "  [1, 1],\n",
       "  [1, 0],\n",
       "  [1, 2],\n",
       "  [2, 2],\n",
       "  [2, 1],\n",
       "  [2, 3],\n",
       "  [2, 4],\n",
       "  [3, 3],\n",
       "  [3, 2],\n",
       "  [4, 4],\n",
       "  [4, 2],\n",
       "  [4, 5],\n",
       "  [5, 5],\n",
       "  [5, 4]]]>"
      ]
     },
     "execution_count": 109,
     "metadata": {},
     "output_type": "execute_result"
    }
   ],
   "source": [
    "c"
   ]
  },
  {
   "cell_type": "markdown",
   "id": "0c576ee8",
   "metadata": {},
   "source": [
    "Next, locate molecules that can't be converted from smile."
   ]
  },
  {
   "cell_type": "code",
   "execution_count": 8,
   "id": "cf15de9c",
   "metadata": {},
   "outputs": [],
   "source": [
    "bad_mol = []\n",
    "for i in df.SMILES_relaxed:\n",
    "    try:\n",
    "        molecule_from_smiles(i)\n",
    "    except:\n",
    "        bad_mol.append(i)"
   ]
  },
  {
   "cell_type": "code",
   "execution_count": 9,
   "id": "8972dc29",
   "metadata": {},
   "outputs": [],
   "source": [
    "df = df[~df['SMILES_relaxed'].isin(bad_mol)]"
   ]
  },
  {
   "cell_type": "markdown",
   "id": "05d1318a",
   "metadata": {},
   "source": [
    "Define X and y, and split data"
   ]
  },
  {
   "cell_type": "code",
   "execution_count": 10,
   "id": "b15da3b8",
   "metadata": {},
   "outputs": [],
   "source": [
    "X = df['SMILES_relaxed']\n",
    "y = df.drop(columns=['index','tag','A','B','C','SMILES_GDB9','SMILES_relaxed'])"
   ]
  },
  {
   "cell_type": "code",
   "execution_count": 11,
   "id": "50a4ff12",
   "metadata": {},
   "outputs": [],
   "source": [
    "X_nontest, X_test, y_nontest, y_test = train_test_split(X, y, test_size=0.20, random_state=42)"
   ]
  },
  {
   "cell_type": "code",
   "execution_count": 12,
   "id": "78a32da1",
   "metadata": {},
   "outputs": [],
   "source": [
    "X_train, X_val, y_train, y_val = train_test_split(X_nontest, y_nontest, test_size=0.20, random_state=42)"
   ]
  },
  {
   "cell_type": "code",
   "execution_count": 13,
   "id": "2ade4a53",
   "metadata": {},
   "outputs": [
    {
     "data": {
      "text/plain": [
       "((640,), (640, 12))"
      ]
     },
     "execution_count": 13,
     "metadata": {},
     "output_type": "execute_result"
    }
   ],
   "source": [
    "X_train.shape, y_train.shape"
   ]
  },
  {
   "cell_type": "code",
   "execution_count": 14,
   "id": "0322dbaf",
   "metadata": {},
   "outputs": [
    {
     "data": {
      "text/plain": [
       "((160,), (160, 12))"
      ]
     },
     "execution_count": 14,
     "metadata": {},
     "output_type": "execute_result"
    }
   ],
   "source": [
    "X_val.shape, y_val.shape"
   ]
  },
  {
   "cell_type": "code",
   "execution_count": 15,
   "id": "b18e8d21",
   "metadata": {},
   "outputs": [
    {
     "data": {
      "text/plain": [
       "((200,), (200, 12))"
      ]
     },
     "execution_count": 15,
     "metadata": {},
     "output_type": "execute_result"
    }
   ],
   "source": [
    "X_test.shape, y_test.shape"
   ]
  },
  {
   "cell_type": "markdown",
   "id": "578cdaaa",
   "metadata": {},
   "source": [
    "Take a glance at a molecule."
   ]
  },
  {
   "cell_type": "code",
   "execution_count": 16,
   "id": "bf77639e",
   "metadata": {},
   "outputs": [
    {
     "data": {
      "image/png": "[encoded data removed]",
      "text/plain": [
       "<rdkit.Chem.rdchem.Mol at 0x172437880>"
      ]
     },
     "execution_count": 16,
     "metadata": {},
     "output_type": "execute_result"
    }
   ],
   "source": [
    "molecule = molecule_from_smiles(df.iloc[50].SMILES_relaxed)\n",
    "molecule"
   ]
  },
  {
   "cell_type": "code",
   "execution_count": 17,
   "id": "dbed2fbc",
   "metadata": {},
   "outputs": [
    {
     "name": "stdout",
     "output_type": "stream",
     "text": [
      "Graph (including self-loops):\n",
      "\tatom features\t (5, 29)\n",
      "\tbond features\t (15, 7)\n",
      "\tpair indices\t (15, 2)\n"
     ]
    }
   ],
   "source": [
    "graph = graph_from_molecule(molecule)\n",
    "print(\"Graph (including self-loops):\")\n",
    "print(\"\\tatom features\\t\", graph[0].shape)\n",
    "print(\"\\tbond features\\t\", graph[1].shape)\n",
    "print(\"\\tpair indices\\t\", graph[2].shape)"
   ]
  },
  {
   "cell_type": "markdown",
   "id": "cd0034eb",
   "metadata": {},
   "source": [
    "Scale y values to improve stability and performance, check distributions"
   ]
  },
  {
   "cell_type": "code",
   "execution_count": 18,
   "id": "a9b7cb51",
   "metadata": {},
   "outputs": [],
   "source": [
    "scaler = StandardScaler()\n",
    "scaler.fit(y_train)\n",
    "y_train = pd.DataFrame(scaler.transform(y_train), columns=y_train.columns)\n",
    "y_val = pd.DataFrame(scaler.transform(y_val), columns=y_val.columns)"
   ]
  },
  {
   "cell_type": "code",
   "execution_count": 19,
   "id": "12750660",
   "metadata": {},
   "outputs": [
    {
     "data": {
      "image/png": "[encoded data removed]",
      "text/plain": [
       "<Figure size 864x576 with 12 Axes>"
      ]
     },
     "metadata": {
      "needs_background": "light"
     },
     "output_type": "display_data"
    }
   ],
   "source": [
    "fig, axs = plt.subplots(3, 4, figsize=(12, 8))\n",
    "\n",
    "sns.histplot(data=y_train, x=\"mu\", kde=True, color=\"b\", ax=axs[0, 0])\n",
    "sns.histplot(data=y_train, x=\"alpha\", kde=True, color=\"g\", ax=axs[0, 1])\n",
    "sns.histplot(data=y_train, x=\"homo\", kde=True, color=\"r\", ax=axs[0, 2])\n",
    "sns.histplot(data=y_train, x=\"lumo\", kde=True, color=\"c\", ax=axs[0, 3])\n",
    "\n",
    "sns.histplot(data=y_train, x=\"gap\", kde=True, color=\"m\", ax=axs[1, 0])\n",
    "sns.histplot(data=y_train, x=\"r2\", kde=True, color=\"y\", ax=axs[1, 1])\n",
    "sns.histplot(data=y_train, x=\"zpve\", kde=True, color=\"k\", ax=axs[1, 2])\n",
    "sns.histplot(data=y_train, x=\"Cv\", kde=True, color=\"w\", ax=axs[1, 3])\n",
    "\n",
    "sns.histplot(data=y_train, x=\"U0\", kde=True, color=\"skyblue\", ax=axs[2, 0])\n",
    "sns.histplot(data=y_train, x=\"U\", kde=True, color=\"olive\", ax=axs[2, 1])\n",
    "sns.histplot(data=y_train, x=\"H\", kde=True, color=\"gold\", ax=axs[2, 2])\n",
    "sns.histplot(data=y_train, x=\"G\", kde=True, color=\"teal\", ax=axs[2, 3])\n",
    "\n",
    "plt.tight_layout()"
   ]
  },
  {
   "cell_type": "markdown",
   "id": "cfa87270",
   "metadata": {},
   "source": [
    "Create graphs from smiles"
   ]
  },
  {
   "cell_type": "code",
   "execution_count": 20,
   "id": "37a4b64d",
   "metadata": {},
   "outputs": [
    {
     "name": "stderr",
     "output_type": "stream",
     "text": [
      "2022-02-27 15:15:48.105286: I tensorflow/core/platform/cpu_feature_guard.cc:151] This TensorFlow binary is optimized with oneAPI Deep Neural Network Library (oneDNN) to use the following CPU instructions in performance-critical operations:  AVX2 FMA\n",
      "To enable them in other operations, rebuild TensorFlow with the appropriate compiler flags.\n"
     ]
    }
   ],
   "source": [
    "X_train_graph = graphs_from_smiles(X_train)\n",
    "X_val_graph = graphs_from_smiles(X_val)\n",
    "X_test_graph = graphs_from_smiles(X_test)"
   ]
  },
  {
   "cell_type": "markdown",
   "id": "1f8cb532",
   "metadata": {},
   "source": [
    "## Merge graphs"
   ]
  },
  {
   "cell_type": "markdown",
   "id": "54167c0c",
   "metadata": {},
   "source": [
    "Make global graph where it is a disconnected graph. The subgraph is completely separated from the other subgraphs.\n",
    "https://keras.io/examples/graph/mpnn-molecular-graphs/"
   ]
  },
  {
   "cell_type": "code",
   "execution_count": 21,
   "id": "dc9309d7",
   "metadata": {},
   "outputs": [],
   "source": [
    "def prepare_batch(x_batch, y_batch):\n",
    "    \"\"\"Merges (sub)graphs of batch into a single global (disconnected) graph\n",
    "    \"\"\"\n",
    "\n",
    "    atom_features, bond_features, pair_indices = x_batch\n",
    "\n",
    "    # Obtain number of atoms and bonds for each graph (molecule)\n",
    "    num_atoms = atom_features.row_lengths()\n",
    "    num_bonds = bond_features.row_lengths()\n",
    "\n",
    "    # Obtain partition indices (molecule_indicator), which will be used to\n",
    "    # gather (sub)graphs from global graph in model later on\n",
    "    molecule_indices = tf.range(len(num_atoms))\n",
    "    molecule_indicator = tf.repeat(molecule_indices, num_atoms)\n",
    "\n",
    "    # Merge (sub)graphs into a global (disconnected) graph. Adding 'increment' to\n",
    "    # 'pair_indices' (and merging ragged tensors) actualizes the global graph\n",
    "    gather_indices = tf.repeat(molecule_indices[:-1], num_bonds[1:])\n",
    "    increment = tf.cumsum(num_atoms[:-1])\n",
    "    increment = tf.pad(tf.gather(increment, gather_indices), [(num_bonds[0], 0)])\n",
    "    pair_indices = pair_indices.merge_dims(outer_axis=0, inner_axis=1).to_tensor()\n",
    "    pair_indices = pair_indices + increment[:, tf.newaxis]\n",
    "    atom_features = atom_features.merge_dims(outer_axis=0, inner_axis=1).to_tensor()\n",
    "    bond_features = bond_features.merge_dims(outer_axis=0, inner_axis=1).to_tensor()\n",
    "\n",
    "    return (atom_features, bond_features, pair_indices, molecule_indicator), y_batch\n",
    "\n",
    "\n",
    "def MPNNDataset(X, y, batch_size=32, shuffle=False):\n",
    "    dataset = tf.data.Dataset.from_tensor_slices((X, (y)))\n",
    "    if shuffle:\n",
    "        dataset = dataset.shuffle(1024)\n",
    "    return dataset.batch(batch_size).map(prepare_batch, -1).prefetch(-1)"
   ]
  },
  {
   "cell_type": "code",
   "execution_count": 22,
   "id": "c7c2cdce",
   "metadata": {},
   "outputs": [],
   "source": [
    "train_dataset = MPNNDataset(X_train_graph, y_train)\n",
    "valid_dataset = MPNNDataset(X_val_graph, y_val)\n",
    "test_dataset = MPNNDataset(X_test_graph, y_test)"
   ]
  },
  {
   "cell_type": "markdown",
   "id": "e01b59c0",
   "metadata": {},
   "source": [
    "## Define MPNN"
   ]
  },
  {
   "cell_type": "code",
   "execution_count": 23,
   "id": "20991e64",
   "metadata": {},
   "outputs": [],
   "source": [
    "class EdgeNetwork(layers.Layer):\n",
    "    def build(self, input_shape):\n",
    "        self.atom_dim = input_shape[0][-1]\n",
    "        self.bond_dim = input_shape[1][-1]\n",
    "        self.kernel = self.add_weight(\n",
    "            shape=(self.bond_dim, self.atom_dim * self.atom_dim),\n",
    "            initializer=\"glorot_uniform\",\n",
    "            name=\"kernel\",)\n",
    "        \n",
    "        self.bias = self.add_weight(\n",
    "            shape=(self.atom_dim * self.atom_dim), initializer=\"zeros\", name=\"bias\",)\n",
    "        self.built = True\n",
    "\n",
    "    def call(self, inputs):\n",
    "        atom_features, bond_features, pair_indices = inputs\n",
    "\n",
    "        # Apply linear transformation to bond features\n",
    "        bond_features = tf.matmul(bond_features, self.kernel) + self.bias\n",
    "\n",
    "        # Reshape for neighborhood aggregation later\n",
    "        bond_features = tf.reshape(bond_features, (-1, self.atom_dim, self.atom_dim))\n",
    "\n",
    "        # Obtain atom features of neighbors\n",
    "        atom_features_neighbors = tf.gather(atom_features, pair_indices[:, 1])\n",
    "        atom_features_neighbors = tf.expand_dims(atom_features_neighbors, axis=-1)\n",
    "\n",
    "        # Apply neighborhood aggregation\n",
    "        transformed_features = tf.matmul(bond_features, atom_features_neighbors)\n",
    "        transformed_features = tf.squeeze(transformed_features, axis=-1)\n",
    "        aggregated_features = tf.math.unsorted_segment_sum(\n",
    "            transformed_features,\n",
    "            pair_indices[:, 0],\n",
    "            num_segments=tf.shape(atom_features)[0],)\n",
    "        return aggregated_features\n",
    "\n",
    "\n",
    "class MessagePassing(layers.Layer):\n",
    "    def __init__(self, units, steps=4, **kwargs):\n",
    "        super().__init__(**kwargs)\n",
    "        self.units = units\n",
    "        self.steps = steps\n",
    "\n",
    "    def build(self, input_shape):\n",
    "        self.atom_dim = input_shape[0][-1]\n",
    "        self.message_step = EdgeNetwork()\n",
    "        self.pad_length = max(0, self.units - self.atom_dim)\n",
    "        self.update_step = layers.GRUCell(self.atom_dim + self.pad_length)\n",
    "        self.built = True\n",
    "\n",
    "    def call(self, inputs):\n",
    "        atom_features, bond_features, pair_indices = inputs\n",
    "\n",
    "        # Pad atom features if number of desired units exceeds atom_features dim.\n",
    "        # Alternatively, a dense layer could be used here.\n",
    "        atom_features_updated = tf.pad(atom_features, [(0, 0), (0, self.pad_length)])\n",
    "\n",
    "        # Perform a number of steps of message passing\n",
    "        for i in range(self.steps):\n",
    "            # Aggregate information from neighbors\n",
    "            atom_features_aggregated = self.message_step(\n",
    "                [atom_features_updated, bond_features, pair_indices])\n",
    "\n",
    "            # Update node state via a step of GRU\n",
    "            atom_features_updated, _ = self.update_step(\n",
    "                atom_features_aggregated, atom_features_updated)\n",
    "        return atom_features_updated"
   ]
  },
  {
   "cell_type": "code",
   "execution_count": 24,
   "id": "6b4a65f8",
   "metadata": {},
   "outputs": [],
   "source": [
    "class PartitionPadding(layers.Layer):\n",
    "    def __init__(self, batch_size, **kwargs):\n",
    "        super().__init__(**kwargs)\n",
    "        self.batch_size = batch_size\n",
    "\n",
    "    def call(self, inputs):\n",
    "\n",
    "        atom_features, molecule_indicator = inputs\n",
    "\n",
    "        # Obtain subgraphs\n",
    "        atom_features_partitioned = tf.dynamic_partition(\n",
    "            atom_features, molecule_indicator, self.batch_size\n",
    "        )\n",
    "\n",
    "        # Pad and stack subgraphs\n",
    "        num_atoms = [tf.shape(f)[0] for f in atom_features_partitioned]\n",
    "        max_num_atoms = tf.reduce_max(num_atoms)\n",
    "        atom_features_stacked = tf.stack(\n",
    "            [\n",
    "                tf.pad(f, [(0, max_num_atoms - n), (0, 0)])\n",
    "                for f, n in zip(atom_features_partitioned, num_atoms)\n",
    "            ],axis=0,)\n",
    "\n",
    "        # Remove empty subgraphs (usually for last batch in dataset)\n",
    "        gather_indices = tf.where(tf.reduce_sum(atom_features_stacked, (1, 2)) != 0)\n",
    "        gather_indices = tf.squeeze(gather_indices, axis=-1)\n",
    "        return tf.gather(atom_features_stacked, gather_indices, axis=0)\n",
    "\n",
    "\n",
    "class TransformerEncoderReadout(layers.Layer):\n",
    "    def __init__(\n",
    "        self, num_heads=8, embed_dim=64, dense_dim=512, batch_size=32, **kwargs):\n",
    "        super().__init__(**kwargs)\n",
    "\n",
    "        self.partition_padding = PartitionPadding(batch_size)\n",
    "        self.attention = layers.MultiHeadAttention(num_heads, embed_dim)\n",
    "        self.dense_proj = keras.Sequential(\n",
    "            [layers.Dense(dense_dim, activation=\"relu\"), layers.Dense(embed_dim),])\n",
    "        self.layernorm_1 = layers.LayerNormalization()\n",
    "        self.layernorm_2 = layers.LayerNormalization()\n",
    "        self.average_pooling = layers.GlobalAveragePooling1D()\n",
    "\n",
    "    def call(self, inputs):\n",
    "        x = self.partition_padding(inputs)\n",
    "        padding_mask = tf.reduce_any(tf.not_equal(x, 0.0), axis=-1)\n",
    "        padding_mask = padding_mask[:, tf.newaxis, tf.newaxis, :]\n",
    "        attention_output = self.attention(x, x, attention_mask=padding_mask)\n",
    "        proj_input = self.layernorm_1(x + attention_output)\n",
    "        proj_output = self.layernorm_2(proj_input + self.dense_proj(proj_input))\n",
    "        return self.average_pooling(proj_output)"
   ]
  },
  {
   "cell_type": "code",
   "execution_count": 25,
   "id": "1e422131",
   "metadata": {},
   "outputs": [],
   "source": [
    "def MPNNModel(atom_dim,bond_dim,batch_size=32,message_units=64,message_steps=4,num_attention_heads=8,dense_units=512,):\n",
    "\n",
    "    atom_features = layers.Input((atom_dim), dtype=\"float32\", name=\"atom_features\")\n",
    "    bond_features = layers.Input((bond_dim), dtype=\"float32\", name=\"bond_features\")\n",
    "    pair_indices = layers.Input((2), dtype=\"int32\", name=\"pair_indices\")\n",
    "    molecule_indicator = layers.Input((), dtype=\"int32\", name=\"molecule_indicator\")\n",
    "\n",
    "    x = MessagePassing(message_units, message_steps)(\n",
    "        [atom_features, bond_features, pair_indices])\n",
    "\n",
    "    x = TransformerEncoderReadout(\n",
    "        num_attention_heads, message_units, dense_units, batch_size)([x, molecule_indicator])\n",
    "\n",
    "    x = layers.Dense(dense_units, activation=\"relu\")(x)\n",
    "    x = layers.Dense(12)(x)\n",
    "\n",
    "    model = keras.Model(\n",
    "        inputs=[atom_features, bond_features, pair_indices, molecule_indicator],\n",
    "        outputs=[x],)\n",
    "    return model"
   ]
  },
  {
   "cell_type": "markdown",
   "id": "0d0fe16b",
   "metadata": {},
   "source": [
    "## Compile model and start training"
   ]
  },
  {
   "cell_type": "code",
   "execution_count": 26,
   "id": "e7326929",
   "metadata": {},
   "outputs": [
    {
     "name": "stdout",
     "output_type": "stream",
     "text": [
      "You must install pydot (`pip install pydot`) and install graphviz (see instructions at https://graphviz.gitlab.io/download/) for plot_model/model_to_dot to work.\n"
     ]
    }
   ],
   "source": [
    "mpnn = MPNNModel(atom_dim=X_train_graph[0][0][0].shape[0], bond_dim=X_train_graph[1][0][0].shape[0],)\n",
    "\n",
    "mpnn.compile(\n",
    "    loss='mse',\n",
    "    optimizer=keras.optimizers.Adam(learning_rate=5e-4),\n",
    "    metrics=[tf.keras.metrics.MeanSquaredError()],)\n",
    "\n",
    "keras.utils.plot_model(mpnn, show_dtype=True, show_shapes=True)"
   ]
  },
  {
   "cell_type": "code",
   "execution_count": 27,
   "id": "b4cbb619",
   "metadata": {},
   "outputs": [
    {
     "name": "stdout",
     "output_type": "stream",
     "text": [
      "Model: \"model\"\n",
      "__________________________________________________________________________________________________\n",
      " Layer (type)                   Output Shape         Param #     Connected to                     \n",
      "==================================================================================================\n",
      " atom_features (InputLayer)     [(None, 29)]         0           []                               \n",
      "                                                                                                  \n",
      " bond_features (InputLayer)     [(None, 7)]          0           []                               \n",
      "                                                                                                  \n",
      " pair_indices (InputLayer)      [(None, 2)]          0           []                               \n",
      "                                                                                                  \n",
      " message_passing (MessagePassin  (None, 64)          57728       ['atom_features[0][0]',          \n",
      " g)                                                               'bond_features[0][0]',          \n",
      "                                                                  'pair_indices[0][0]']           \n",
      "                                                                                                  \n",
      " molecule_indicator (InputLayer  [(None,)]           0           []                               \n",
      " )                                                                                                \n",
      "                                                                                                  \n",
      " transformer_encoder_readout (T  (None, 64)          199040      ['message_passing[0][0]',        \n",
      " ransformerEncoderReadout)                                        'molecule_indicator[0][0]']     \n",
      "                                                                                                  \n",
      " dense_2 (Dense)                (None, 512)          33280       ['transformer_encoder_readout[0][\n",
      "                                                                 0]']                             \n",
      "                                                                                                  \n",
      " dense_3 (Dense)                (None, 12)           6156        ['dense_2[0][0]']                \n",
      "                                                                                                  \n",
      "==================================================================================================\n",
      "Total params: 296,204\n",
      "Trainable params: 296,204\n",
      "Non-trainable params: 0\n",
      "__________________________________________________________________________________________________\n"
     ]
    }
   ],
   "source": [
    "mpnn.summary()"
   ]
  },
  {
   "cell_type": "code",
   "execution_count": 28,
   "id": "92675781",
   "metadata": {},
   "outputs": [
    {
     "name": "stdout",
     "output_type": "stream",
     "text": [
      "Epoch 1/20\n",
      "20/20 - 10s - loss: 0.6770 - mean_squared_error: 0.6770 - val_loss: 0.5465 - val_mean_squared_error: 0.5465 - 10s/epoch - 486ms/step\n",
      "Epoch 2/20\n",
      "20/20 - 2s - loss: 0.3471 - mean_squared_error: 0.3471 - val_loss: 0.3688 - val_mean_squared_error: 0.3688 - 2s/epoch - 117ms/step\n",
      "Epoch 3/20\n",
      "20/20 - 3s - loss: 0.2317 - mean_squared_error: 0.2317 - val_loss: 0.3084 - val_mean_squared_error: 0.3084 - 3s/epoch - 129ms/step\n",
      "Epoch 4/20\n",
      "20/20 - 2s - loss: 0.1681 - mean_squared_error: 0.1681 - val_loss: 0.2618 - val_mean_squared_error: 0.2618 - 2s/epoch - 103ms/step\n",
      "Epoch 5/20\n",
      "20/20 - 3s - loss: 0.1329 - mean_squared_error: 0.1329 - val_loss: 0.2523 - val_mean_squared_error: 0.2523 - 3s/epoch - 128ms/step\n",
      "Epoch 6/20\n",
      "20/20 - 3s - loss: 0.1158 - mean_squared_error: 0.1158 - val_loss: 0.2461 - val_mean_squared_error: 0.2461 - 3s/epoch - 126ms/step\n",
      "Epoch 7/20\n",
      "20/20 - 2s - loss: 0.1024 - mean_squared_error: 0.1024 - val_loss: 0.2331 - val_mean_squared_error: 0.2331 - 2s/epoch - 120ms/step\n",
      "Epoch 8/20\n",
      "20/20 - 3s - loss: 0.0917 - mean_squared_error: 0.0917 - val_loss: 0.2307 - val_mean_squared_error: 0.2307 - 3s/epoch - 133ms/step\n",
      "Epoch 9/20\n",
      "20/20 - 2s - loss: 0.0857 - mean_squared_error: 0.0857 - val_loss: 0.2221 - val_mean_squared_error: 0.2221 - 2s/epoch - 124ms/step\n",
      "Epoch 10/20\n",
      "20/20 - 3s - loss: 0.0805 - mean_squared_error: 0.0805 - val_loss: 0.2185 - val_mean_squared_error: 0.2185 - 3s/epoch - 165ms/step\n",
      "Epoch 11/20\n",
      "20/20 - 3s - loss: 0.0762 - mean_squared_error: 0.0762 - val_loss: 0.2148 - val_mean_squared_error: 0.2148 - 3s/epoch - 160ms/step\n",
      "Epoch 12/20\n",
      "20/20 - 3s - loss: 0.0735 - mean_squared_error: 0.0735 - val_loss: 0.2094 - val_mean_squared_error: 0.2094 - 3s/epoch - 139ms/step\n",
      "Epoch 13/20\n",
      "20/20 - 4s - loss: 0.0702 - mean_squared_error: 0.0702 - val_loss: 0.2099 - val_mean_squared_error: 0.2099 - 4s/epoch - 207ms/step\n",
      "Epoch 14/20\n",
      "20/20 - 4s - loss: 0.0680 - mean_squared_error: 0.0680 - val_loss: 0.2059 - val_mean_squared_error: 0.2059 - 4s/epoch - 179ms/step\n",
      "Epoch 15/20\n",
      "20/20 - 3s - loss: 0.0646 - mean_squared_error: 0.0646 - val_loss: 0.2047 - val_mean_squared_error: 0.2047 - 3s/epoch - 160ms/step\n",
      "Epoch 16/20\n",
      "20/20 - 2s - loss: 0.0640 - mean_squared_error: 0.0640 - val_loss: 0.2013 - val_mean_squared_error: 0.2013 - 2s/epoch - 118ms/step\n",
      "Epoch 17/20\n",
      "20/20 - 2s - loss: 0.0620 - mean_squared_error: 0.0620 - val_loss: 0.1996 - val_mean_squared_error: 0.1996 - 2s/epoch - 110ms/step\n",
      "Epoch 18/20\n",
      "20/20 - 3s - loss: 0.0612 - mean_squared_error: 0.0612 - val_loss: 0.1959 - val_mean_squared_error: 0.1959 - 3s/epoch - 132ms/step\n",
      "Epoch 19/20\n",
      "20/20 - 3s - loss: 0.0586 - mean_squared_error: 0.0586 - val_loss: 0.1974 - val_mean_squared_error: 0.1974 - 3s/epoch - 155ms/step\n",
      "Epoch 20/20\n",
      "20/20 - 4s - loss: 0.0577 - mean_squared_error: 0.0577 - val_loss: 0.1948 - val_mean_squared_error: 0.1948 - 4s/epoch - 183ms/step\n"
     ]
    }
   ],
   "source": [
    "history = mpnn.fit(\n",
    "    train_dataset,\n",
    "    validation_data=valid_dataset,\n",
    "    epochs=20,\n",
    "    verbose=2,)"
   ]
  },
  {
   "cell_type": "code",
   "execution_count": 29,
   "id": "b782ee60",
   "metadata": {},
   "outputs": [
    {
     "data": {
      "image/png": "[encoded data removed]",
      "text/plain": [
       "<Figure size 720x432 with 1 Axes>"
      ]
     },
     "metadata": {
      "needs_background": "light"
     },
     "output_type": "display_data"
    }
   ],
   "source": [
    "plt.figure(figsize=(10, 6))\n",
    "plt.plot(history.history[\"loss\"], label=\"train loss\")\n",
    "plt.plot(history.history[\"val_loss\"], label=\"valid loss\")\n",
    "plt.xlabel(\"Epochs\", fontsize=16)\n",
    "plt.ylabel(\"loss\", fontsize=16)\n",
    "plt.legend(fontsize=16)\n",
    "plt.show()"
   ]
  },
  {
   "cell_type": "code",
   "execution_count": 30,
   "id": "664a82ba",
   "metadata": {},
   "outputs": [
    {
     "name": "stderr",
     "output_type": "stream",
     "text": [
      "2022-02-27 15:17:22.178135: W tensorflow/python/util/util.cc:368] Sets are not currently considered sequences, but this may change in the future, so consider avoiding using them.\n",
      "WARNING:absl:Found untraced functions such as edge_network_layer_call_fn, edge_network_layer_call_and_return_conditional_losses, gru_cell_layer_call_fn, gru_cell_layer_call_and_return_conditional_losses, partition_padding_layer_call_fn while saving (showing 5 of 24). These functions will not be directly callable after loading.\n"
     ]
    },
    {
     "name": "stdout",
     "output_type": "stream",
     "text": [
      "INFO:tensorflow:Assets written to: ../model/mymodel-play/assets\n"
     ]
    },
    {
     "name": "stderr",
     "output_type": "stream",
     "text": [
      "INFO:tensorflow:Assets written to: ../model/mymodel-play/assets\n"
     ]
    }
   ],
   "source": [
    "mpnn.save('../model/mymodel-play')"
   ]
  },
  {
   "cell_type": "markdown",
   "id": "ec13a3d3",
   "metadata": {},
   "source": [
    "Make predictions on test set"
   ]
  },
  {
   "cell_type": "code",
   "execution_count": 31,
   "id": "2a2b3f69",
   "metadata": {},
   "outputs": [],
   "source": [
    "#mpnn = tf.keras.models.load_model('../model/mymodel-play')"
   ]
  },
  {
   "cell_type": "code",
   "execution_count": 32,
   "id": "f3cb8824",
   "metadata": {},
   "outputs": [],
   "source": [
    "columns = ['mu', 'alpha', 'homo', 'lumo', 'gap','r2', 'zpve', 'U0', 'U', 'H', 'G', 'Cv']\n",
    "y_pred = mpnn.predict(test_dataset)\n",
    "y_pred = scaler.inverse_transform(y_pred)\n",
    "y_pred = pd.DataFrame(y_pred, columns=columns)"
   ]
  },
  {
   "cell_type": "code",
   "execution_count": 33,
   "id": "439dec16",
   "metadata": {
    "scrolled": true
   },
   "outputs": [
    {
     "data": {
      "image/png": "[encoded data removed]",
      "text/plain": [
       "<Figure size 864x576 with 12 Axes>"
      ]
     },
     "metadata": {
      "needs_background": "light"
     },
     "output_type": "display_data"
    }
   ],
   "source": [
    "fig, axs = plt.subplots(3, 4, figsize=(12, 8))\n",
    "myx = 0\n",
    "myy = 0\n",
    "for name in columns:\n",
    "    axs[myx,myy].scatter(y_test[name], y_pred[name])\n",
    "    axs[myx,myy].plot([min(y_test[name]),max(y_test[name])],[min(y_test[name]),max(y_test[name])],c='orange')\n",
    "    axs[myx,myy].set_xlabel('True')\n",
    "    axs[myx,myy].set_ylabel('Predict')\n",
    "    axs[myx,myy].set_title(name)\n",
    "    \n",
    "    myy += 1\n",
    "    if myy == 4:\n",
    "        myy = 0\n",
    "        myx += 1\n",
    "        \n",
    "plt.tight_layout()\n",
    "plt.show()"
   ]
  },
  {
   "cell_type": "code",
   "execution_count": 34,
   "id": "468149d3",
   "metadata": {},
   "outputs": [
    {
     "name": "stdout",
     "output_type": "stream",
     "text": [
      "property, rmse, r2\n",
      "mu 0.9589425743666773 0.5064500854414891\n",
      "alpha 1.8609525496088355 0.9491594446454696\n",
      "homo 0.011267764868675768 0.8839269905081318\n",
      "lumo 0.010480087868121952 0.9521301185071397\n",
      "gap 0.013158256368219257 0.9319431476524002\n",
      "r2 65.31061490404441 0.8390964344158593\n",
      "zpve 0.004595824137025138 0.9738623996878274\n",
      "U0 10.5111130258791 0.9469928316739004\n",
      "U 10.116483222715903 0.950897866251478\n",
      "H 9.88508857234623 0.9531184065940523\n",
      "G 9.977876027960031 0.9522357652854163\n",
      "Cv 0.9486090524766758 0.9336953255758795\n"
     ]
    }
   ],
   "source": [
    "print('property, rmse, r2')\n",
    "for name in columns:\n",
    "    print(name,mean_squared_error(y_test[name], y_pred[name], squared=False),r2_score(y_test[name], y_pred[name]))"
   ]
  },
  {
   "cell_type": "code",
   "execution_count": null,
   "id": "081ef3ca",
   "metadata": {},
   "outputs": [],
   "source": []
  }
 ],
 "metadata": {
  "kernelspec": {
   "display_name": "Python 3 (ipykernel)",
   "language": "python",
   "name": "python3"
  },
  "language_info": {
   "codemirror_mode": {
    "name": "ipython",
    "version": 3
   },
   "file_extension": ".py",
   "mimetype": "text/x-python",
   "name": "python",
   "nbconvert_exporter": "python",
   "pygments_lexer": "ipython3",
   "version": "3.9.10"
  }
 },
 "nbformat": 4,
 "nbformat_minor": 5
}
