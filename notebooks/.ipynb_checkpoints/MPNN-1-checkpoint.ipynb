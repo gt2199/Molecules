{
 "cells": [
  {
   "cell_type": "code",
   "execution_count": 125,
   "id": "6140d18d",
   "metadata": {},
   "outputs": [],
   "source": [
    "import tensorflow as tf\n",
    "from tensorflow import keras\n",
    "from tensorflow.keras import layers\n",
    "import numpy as np\n",
    "import pandas as pd\n",
    "import matplotlib.pyplot as plt\n",
    "import warnings\n",
    "from rdkit import Chem\n",
    "from rdkit import RDLogger\n",
    "from rdkit.Chem.Draw import IPythonConsole\n",
    "from rdkit.Chem.Draw import MolsToGridImage\n",
    "from sklearn.model_selection import train_test_split"
   ]
  },
  {
   "cell_type": "code",
   "execution_count": 126,
   "id": "b4f429b8",
   "metadata": {},
   "outputs": [],
   "source": [
    "warnings.filterwarnings(\"ignore\")\n",
    "RDLogger.DisableLog(\"rdApp.*\")"
   ]
  },
  {
   "cell_type": "code",
   "execution_count": 127,
   "id": "b4453f92",
   "metadata": {},
   "outputs": [],
   "source": [
    "df = pd.read_csv('../data/data_cleaned.csv')"
   ]
  },
  {
   "cell_type": "code",
   "execution_count": 128,
   "id": "0cfdd83a",
   "metadata": {},
   "outputs": [
    {
     "data": {
      "text/html": [
       "<div>\n",
       "<style scoped>\n",
       "    .dataframe tbody tr th:only-of-type {\n",
       "        vertical-align: middle;\n",
       "    }\n",
       "\n",
       "    .dataframe tbody tr th {\n",
       "        vertical-align: top;\n",
       "    }\n",
       "\n",
       "    .dataframe thead th {\n",
       "        text-align: right;\n",
       "    }\n",
       "</style>\n",
       "<table border=\"1\" class=\"dataframe\">\n",
       "  <thead>\n",
       "    <tr style=\"text-align: right;\">\n",
       "      <th></th>\n",
       "      <th>index</th>\n",
       "      <th>tag</th>\n",
       "      <th>A</th>\n",
       "      <th>B</th>\n",
       "      <th>C</th>\n",
       "      <th>mu</th>\n",
       "      <th>alpha</th>\n",
       "      <th>homo</th>\n",
       "      <th>lumo</th>\n",
       "      <th>gap</th>\n",
       "      <th>r2</th>\n",
       "      <th>zpve</th>\n",
       "      <th>U0</th>\n",
       "      <th>U</th>\n",
       "      <th>H</th>\n",
       "      <th>G</th>\n",
       "      <th>Cv</th>\n",
       "      <th>SMILES_GDB9</th>\n",
       "      <th>SMILES_relaxed</th>\n",
       "    </tr>\n",
       "  </thead>\n",
       "  <tbody>\n",
       "    <tr>\n",
       "      <th>0</th>\n",
       "      <td>1</td>\n",
       "      <td>gdb</td>\n",
       "      <td>157.71180</td>\n",
       "      <td>157.709970</td>\n",
       "      <td>157.706990</td>\n",
       "      <td>0.0000</td>\n",
       "      <td>13.21</td>\n",
       "      <td>-0.3877</td>\n",
       "      <td>0.1171</td>\n",
       "      <td>0.5048</td>\n",
       "      <td>35.3641</td>\n",
       "      <td>0.044749</td>\n",
       "      <td>-40.478930</td>\n",
       "      <td>-40.476062</td>\n",
       "      <td>-40.475117</td>\n",
       "      <td>-40.498597</td>\n",
       "      <td>6.469</td>\n",
       "      <td>C</td>\n",
       "      <td>C</td>\n",
       "    </tr>\n",
       "    <tr>\n",
       "      <th>1</th>\n",
       "      <td>2</td>\n",
       "      <td>gdb</td>\n",
       "      <td>293.60975</td>\n",
       "      <td>293.541110</td>\n",
       "      <td>191.393970</td>\n",
       "      <td>1.6256</td>\n",
       "      <td>9.46</td>\n",
       "      <td>-0.2570</td>\n",
       "      <td>0.0829</td>\n",
       "      <td>0.3399</td>\n",
       "      <td>26.1563</td>\n",
       "      <td>0.034358</td>\n",
       "      <td>-56.525887</td>\n",
       "      <td>-56.523026</td>\n",
       "      <td>-56.522082</td>\n",
       "      <td>-56.544961</td>\n",
       "      <td>6.316</td>\n",
       "      <td>N</td>\n",
       "      <td>N</td>\n",
       "    </tr>\n",
       "    <tr>\n",
       "      <th>2</th>\n",
       "      <td>3</td>\n",
       "      <td>gdb</td>\n",
       "      <td>799.58812</td>\n",
       "      <td>437.903860</td>\n",
       "      <td>282.945450</td>\n",
       "      <td>1.8511</td>\n",
       "      <td>6.31</td>\n",
       "      <td>-0.2928</td>\n",
       "      <td>0.0687</td>\n",
       "      <td>0.3615</td>\n",
       "      <td>19.0002</td>\n",
       "      <td>0.021375</td>\n",
       "      <td>-76.404702</td>\n",
       "      <td>-76.401867</td>\n",
       "      <td>-76.400922</td>\n",
       "      <td>-76.422349</td>\n",
       "      <td>6.002</td>\n",
       "      <td>O</td>\n",
       "      <td>O</td>\n",
       "    </tr>\n",
       "    <tr>\n",
       "      <th>3</th>\n",
       "      <td>4</td>\n",
       "      <td>gdb</td>\n",
       "      <td>0.00000</td>\n",
       "      <td>35.610036</td>\n",
       "      <td>35.610036</td>\n",
       "      <td>0.0000</td>\n",
       "      <td>16.28</td>\n",
       "      <td>-0.2845</td>\n",
       "      <td>0.0506</td>\n",
       "      <td>0.3351</td>\n",
       "      <td>59.5248</td>\n",
       "      <td>0.026841</td>\n",
       "      <td>-77.308427</td>\n",
       "      <td>-77.305527</td>\n",
       "      <td>-77.304583</td>\n",
       "      <td>-77.327429</td>\n",
       "      <td>8.574</td>\n",
       "      <td>C#C</td>\n",
       "      <td>C#C</td>\n",
       "    </tr>\n",
       "    <tr>\n",
       "      <th>4</th>\n",
       "      <td>5</td>\n",
       "      <td>gdb</td>\n",
       "      <td>0.00000</td>\n",
       "      <td>44.593883</td>\n",
       "      <td>44.593883</td>\n",
       "      <td>2.8937</td>\n",
       "      <td>12.99</td>\n",
       "      <td>-0.3604</td>\n",
       "      <td>0.0191</td>\n",
       "      <td>0.3796</td>\n",
       "      <td>48.7476</td>\n",
       "      <td>0.016601</td>\n",
       "      <td>-93.411888</td>\n",
       "      <td>-93.409370</td>\n",
       "      <td>-93.408425</td>\n",
       "      <td>-93.431246</td>\n",
       "      <td>6.278</td>\n",
       "      <td>C#N</td>\n",
       "      <td>C#N</td>\n",
       "    </tr>\n",
       "    <tr>\n",
       "      <th>...</th>\n",
       "      <td>...</td>\n",
       "      <td>...</td>\n",
       "      <td>...</td>\n",
       "      <td>...</td>\n",
       "      <td>...</td>\n",
       "      <td>...</td>\n",
       "      <td>...</td>\n",
       "      <td>...</td>\n",
       "      <td>...</td>\n",
       "      <td>...</td>\n",
       "      <td>...</td>\n",
       "      <td>...</td>\n",
       "      <td>...</td>\n",
       "      <td>...</td>\n",
       "      <td>...</td>\n",
       "      <td>...</td>\n",
       "      <td>...</td>\n",
       "      <td>...</td>\n",
       "      <td>...</td>\n",
       "    </tr>\n",
       "    <tr>\n",
       "      <th>133880</th>\n",
       "      <td>133881</td>\n",
       "      <td>gdb</td>\n",
       "      <td>3.59483</td>\n",
       "      <td>2.198990</td>\n",
       "      <td>1.904230</td>\n",
       "      <td>1.6637</td>\n",
       "      <td>69.37</td>\n",
       "      <td>-0.2254</td>\n",
       "      <td>0.0588</td>\n",
       "      <td>0.2842</td>\n",
       "      <td>760.7472</td>\n",
       "      <td>0.127406</td>\n",
       "      <td>-400.633868</td>\n",
       "      <td>-400.628599</td>\n",
       "      <td>-400.627654</td>\n",
       "      <td>-400.663098</td>\n",
       "      <td>23.658</td>\n",
       "      <td>C1C2C3C4C5OC14C5N23</td>\n",
       "      <td>C1[C@@H]2[C@@H]3[C@H]4[C@@H]5O[C@]14[C@@H]5N23</td>\n",
       "    </tr>\n",
       "    <tr>\n",
       "      <th>133881</th>\n",
       "      <td>133882</td>\n",
       "      <td>gdb</td>\n",
       "      <td>3.65648</td>\n",
       "      <td>2.142370</td>\n",
       "      <td>1.904390</td>\n",
       "      <td>1.2976</td>\n",
       "      <td>69.52</td>\n",
       "      <td>-0.2393</td>\n",
       "      <td>0.0608</td>\n",
       "      <td>0.3002</td>\n",
       "      <td>762.6354</td>\n",
       "      <td>0.127495</td>\n",
       "      <td>-400.629713</td>\n",
       "      <td>-400.624444</td>\n",
       "      <td>-400.623500</td>\n",
       "      <td>-400.658942</td>\n",
       "      <td>23.697</td>\n",
       "      <td>C1N2C3C2C2C4OC12C34</td>\n",
       "      <td>C1N2[C@H]3[C@@H]2[C@@H]2[C@H]4O[C@@]12[C@@H]34</td>\n",
       "    </tr>\n",
       "    <tr>\n",
       "      <th>133882</th>\n",
       "      <td>133883</td>\n",
       "      <td>gdb</td>\n",
       "      <td>3.67118</td>\n",
       "      <td>2.143140</td>\n",
       "      <td>1.895010</td>\n",
       "      <td>1.2480</td>\n",
       "      <td>73.60</td>\n",
       "      <td>-0.2233</td>\n",
       "      <td>0.0720</td>\n",
       "      <td>0.2953</td>\n",
       "      <td>780.3553</td>\n",
       "      <td>0.140458</td>\n",
       "      <td>-380.753918</td>\n",
       "      <td>-380.748619</td>\n",
       "      <td>-380.747675</td>\n",
       "      <td>-380.783148</td>\n",
       "      <td>23.972</td>\n",
       "      <td>C1N2C3C4C5C2C13CN45</td>\n",
       "      <td>C1N2[C@@H]3[C@@H]4[C@@H]5[C@H]2[C@]13CN45</td>\n",
       "    </tr>\n",
       "    <tr>\n",
       "      <th>133883</th>\n",
       "      <td>133884</td>\n",
       "      <td>gdb</td>\n",
       "      <td>3.52845</td>\n",
       "      <td>2.151310</td>\n",
       "      <td>1.865820</td>\n",
       "      <td>1.9576</td>\n",
       "      <td>77.40</td>\n",
       "      <td>-0.2122</td>\n",
       "      <td>0.0881</td>\n",
       "      <td>0.3003</td>\n",
       "      <td>803.1904</td>\n",
       "      <td>0.152222</td>\n",
       "      <td>-364.720374</td>\n",
       "      <td>-364.714974</td>\n",
       "      <td>-364.714030</td>\n",
       "      <td>-364.749650</td>\n",
       "      <td>24.796</td>\n",
       "      <td>C1N2C3C4C5CC13C2C45</td>\n",
       "      <td>C1N2[C@H]3[C@@H]4[C@@H]5C[C@]13[C@H]2[C@H]45</td>\n",
       "    </tr>\n",
       "    <tr>\n",
       "      <th>133884</th>\n",
       "      <td>133885</td>\n",
       "      <td>gdb</td>\n",
       "      <td>3.64015</td>\n",
       "      <td>2.217640</td>\n",
       "      <td>1.937930</td>\n",
       "      <td>0.8626</td>\n",
       "      <td>69.48</td>\n",
       "      <td>-0.2316</td>\n",
       "      <td>0.0742</td>\n",
       "      <td>0.3058</td>\n",
       "      <td>756.3557</td>\n",
       "      <td>0.127862</td>\n",
       "      <td>-400.633052</td>\n",
       "      <td>-400.627892</td>\n",
       "      <td>-400.626948</td>\n",
       "      <td>-400.662186</td>\n",
       "      <td>23.434</td>\n",
       "      <td>C1N2C3C4C5OC13C2C45</td>\n",
       "      <td>C1N2[C@H]3[C@@H]4[C@@H]5O[C@]13[C@H]2[C@H]45</td>\n",
       "    </tr>\n",
       "  </tbody>\n",
       "</table>\n",
       "<p>133885 rows × 19 columns</p>\n",
       "</div>"
      ],
      "text/plain": [
       "         index  tag          A           B           C      mu  alpha    homo  \\\n",
       "0            1  gdb  157.71180  157.709970  157.706990  0.0000  13.21 -0.3877   \n",
       "1            2  gdb  293.60975  293.541110  191.393970  1.6256   9.46 -0.2570   \n",
       "2            3  gdb  799.58812  437.903860  282.945450  1.8511   6.31 -0.2928   \n",
       "3            4  gdb    0.00000   35.610036   35.610036  0.0000  16.28 -0.2845   \n",
       "4            5  gdb    0.00000   44.593883   44.593883  2.8937  12.99 -0.3604   \n",
       "...        ...  ...        ...         ...         ...     ...    ...     ...   \n",
       "133880  133881  gdb    3.59483    2.198990    1.904230  1.6637  69.37 -0.2254   \n",
       "133881  133882  gdb    3.65648    2.142370    1.904390  1.2976  69.52 -0.2393   \n",
       "133882  133883  gdb    3.67118    2.143140    1.895010  1.2480  73.60 -0.2233   \n",
       "133883  133884  gdb    3.52845    2.151310    1.865820  1.9576  77.40 -0.2122   \n",
       "133884  133885  gdb    3.64015    2.217640    1.937930  0.8626  69.48 -0.2316   \n",
       "\n",
       "          lumo     gap        r2      zpve          U0           U  \\\n",
       "0       0.1171  0.5048   35.3641  0.044749  -40.478930  -40.476062   \n",
       "1       0.0829  0.3399   26.1563  0.034358  -56.525887  -56.523026   \n",
       "2       0.0687  0.3615   19.0002  0.021375  -76.404702  -76.401867   \n",
       "3       0.0506  0.3351   59.5248  0.026841  -77.308427  -77.305527   \n",
       "4       0.0191  0.3796   48.7476  0.016601  -93.411888  -93.409370   \n",
       "...        ...     ...       ...       ...         ...         ...   \n",
       "133880  0.0588  0.2842  760.7472  0.127406 -400.633868 -400.628599   \n",
       "133881  0.0608  0.3002  762.6354  0.127495 -400.629713 -400.624444   \n",
       "133882  0.0720  0.2953  780.3553  0.140458 -380.753918 -380.748619   \n",
       "133883  0.0881  0.3003  803.1904  0.152222 -364.720374 -364.714974   \n",
       "133884  0.0742  0.3058  756.3557  0.127862 -400.633052 -400.627892   \n",
       "\n",
       "                 H           G      Cv          SMILES_GDB9  \\\n",
       "0       -40.475117  -40.498597   6.469                    C   \n",
       "1       -56.522082  -56.544961   6.316                    N   \n",
       "2       -76.400922  -76.422349   6.002                    O   \n",
       "3       -77.304583  -77.327429   8.574                  C#C   \n",
       "4       -93.408425  -93.431246   6.278                  C#N   \n",
       "...            ...         ...     ...                  ...   \n",
       "133880 -400.627654 -400.663098  23.658  C1C2C3C4C5OC14C5N23   \n",
       "133881 -400.623500 -400.658942  23.697  C1N2C3C2C2C4OC12C34   \n",
       "133882 -380.747675 -380.783148  23.972  C1N2C3C4C5C2C13CN45   \n",
       "133883 -364.714030 -364.749650  24.796  C1N2C3C4C5CC13C2C45   \n",
       "133884 -400.626948 -400.662186  23.434  C1N2C3C4C5OC13C2C45   \n",
       "\n",
       "                                        SMILES_relaxed  \n",
       "0                                                    C  \n",
       "1                                                    N  \n",
       "2                                                    O  \n",
       "3                                                  C#C  \n",
       "4                                                  C#N  \n",
       "...                                                ...  \n",
       "133880  C1[C@@H]2[C@@H]3[C@H]4[C@@H]5O[C@]14[C@@H]5N23  \n",
       "133881  C1N2[C@H]3[C@@H]2[C@@H]2[C@H]4O[C@@]12[C@@H]34  \n",
       "133882       C1N2[C@@H]3[C@@H]4[C@@H]5[C@H]2[C@]13CN45  \n",
       "133883    C1N2[C@H]3[C@@H]4[C@@H]5C[C@]13[C@H]2[C@H]45  \n",
       "133884    C1N2[C@H]3[C@@H]4[C@@H]5O[C@]13[C@H]2[C@H]45  \n",
       "\n",
       "[133885 rows x 19 columns]"
      ]
     },
     "execution_count": 128,
     "metadata": {},
     "output_type": "execute_result"
    }
   ],
   "source": [
    "df"
   ]
  },
  {
   "cell_type": "code",
   "execution_count": 129,
   "id": "744ded3b",
   "metadata": {},
   "outputs": [
    {
     "data": {
      "text/plain": [
       "Index(['index', 'tag', 'A', 'B', 'C', 'mu', 'alpha', 'homo', 'lumo', 'gap',\n",
       "       'r2', 'zpve', 'U0', 'U', 'H', 'G', 'Cv', 'SMILES_GDB9',\n",
       "       'SMILES_relaxed'],\n",
       "      dtype='object')"
      ]
     },
     "execution_count": 129,
     "metadata": {},
     "output_type": "execute_result"
    }
   ],
   "source": [
    "df.columns"
   ]
  },
  {
   "cell_type": "markdown",
   "id": "4aa03489",
   "metadata": {},
   "source": [
    "## Define features"
   ]
  },
  {
   "cell_type": "markdown",
   "id": "564b4177",
   "metadata": {},
   "source": [
    "These classes are meant to define the types of atom and bond that are present in a molecule.\n",
    "https://keras.io/examples/graph/mpnn-molecular-graphs/"
   ]
  },
  {
   "cell_type": "code",
   "execution_count": 130,
   "id": "f80ed6cc",
   "metadata": {},
   "outputs": [],
   "source": [
    "class Featurizer:\n",
    "    def __init__(self, allowable_sets):\n",
    "        self.dim = 0\n",
    "        self.features_mapping = {}\n",
    "        for k, s in allowable_sets.items():\n",
    "            s = sorted(list(s))\n",
    "            self.features_mapping[k] = dict(zip(s, range(self.dim, len(s) + self.dim)))\n",
    "            self.dim += len(s)\n",
    "\n",
    "    def encode(self, inputs):\n",
    "        output = np.zeros((self.dim,))\n",
    "        for name_feature, feature_mapping in self.features_mapping.items():\n",
    "            feature = getattr(self, name_feature)(inputs)\n",
    "            if feature not in feature_mapping:\n",
    "                continue\n",
    "            output[feature_mapping[feature]] = 1.0\n",
    "        return output\n",
    "\n",
    "\n",
    "class AtomFeaturizer(Featurizer):\n",
    "    def __init__(self, allowable_sets):\n",
    "        super().__init__(allowable_sets)\n",
    "\n",
    "    def symbol(self, atom):\n",
    "        return atom.GetSymbol()\n",
    "\n",
    "    def n_valence(self, atom):\n",
    "        return atom.GetTotalValence()\n",
    "\n",
    "    def n_hydrogens(self, atom):\n",
    "        return atom.GetTotalNumHs()\n",
    "\n",
    "    def hybridization(self, atom):\n",
    "        return atom.GetHybridization().name.lower()\n",
    "\n",
    "\n",
    "class BondFeaturizer(Featurizer):\n",
    "    def __init__(self, allowable_sets):\n",
    "        super().__init__(allowable_sets)\n",
    "        self.dim += 1\n",
    "\n",
    "    def encode(self, bond):\n",
    "        output = np.zeros((self.dim,))\n",
    "        if bond is None:\n",
    "            output[-1] = 1.0\n",
    "            return output\n",
    "        output = super().encode(bond)\n",
    "        return output\n",
    "\n",
    "    def bond_type(self, bond):\n",
    "        return bond.GetBondType().name.lower()\n",
    "\n",
    "    def conjugated(self, bond):\n",
    "        return bond.GetIsConjugated()\n",
    "\n",
    "\n",
    "atom_featurizer = AtomFeaturizer(\n",
    "    allowable_sets={\n",
    "        \"symbol\": {\"B\", \"Br\", \"C\", \"Ca\", \"Cl\", \"F\", \"H\", \"I\", \"N\", \"Na\", \"O\", \"P\", \"S\"},\n",
    "        \"n_valence\": {0, 1, 2, 3, 4, 5, 6},\n",
    "        \"n_hydrogens\": {0, 1, 2, 3, 4},\n",
    "        \"hybridization\": {\"s\", \"sp\", \"sp2\", \"sp3\"},})\n",
    "\n",
    "bond_featurizer = BondFeaturizer(\n",
    "    allowable_sets={\n",
    "        \"bond_type\": {\"single\", \"double\", \"triple\", \"aromatic\"},\n",
    "        \"conjugated\": {True, False},})"
   ]
  },
  {
   "cell_type": "markdown",
   "id": "5da7d8e5",
   "metadata": {},
   "source": [
    "## Define graphs"
   ]
  },
  {
   "cell_type": "markdown",
   "id": "9e6c01e4",
   "metadata": {},
   "source": [
    "Here, these functions are used to convert smiles to molecules and molecules to graph.\n",
    "https://keras.io/examples/graph/mpnn-molecular-graphs/"
   ]
  },
  {
   "cell_type": "code",
   "execution_count": 131,
   "id": "e2899926",
   "metadata": {},
   "outputs": [],
   "source": [
    "def molecule_from_smiles(smiles):\n",
    "    # MolFromSmiles(m, sanitize=True) should be equivalent to\n",
    "    # MolFromSmiles(m, sanitize=False) -> SanitizeMol(m) -> AssignStereochemistry(m, ...)\n",
    "    molecule = Chem.MolFromSmiles(smiles, sanitize=False)\n",
    "\n",
    "    # If sanitization is unsuccessful, catch the error, and try again without\n",
    "    # the sanitization step that caused the error\n",
    "    flag = Chem.SanitizeMol(molecule, catchErrors=True)\n",
    "    if flag != Chem.SanitizeFlags.SANITIZE_NONE:\n",
    "        Chem.SanitizeMol(molecule, sanitizeOps=Chem.SanitizeFlags.SANITIZE_ALL ^ flag)\n",
    "\n",
    "    Chem.AssignStereochemistry(molecule, cleanIt=True, force=True)\n",
    "    return molecule\n",
    "\n",
    "\n",
    "def graph_from_molecule(molecule):\n",
    "    # Initialize graph\n",
    "    atom_features = []\n",
    "    bond_features = []\n",
    "    pair_indices = []\n",
    "\n",
    "    for atom in molecule.GetAtoms():\n",
    "        atom_features.append(atom_featurizer.encode(atom))\n",
    "\n",
    "        # Add self-loops\n",
    "        pair_indices.append([atom.GetIdx(), atom.GetIdx()])\n",
    "        bond_features.append(bond_featurizer.encode(None))\n",
    "\n",
    "        for neighbor in atom.GetNeighbors():\n",
    "            bond = molecule.GetBondBetweenAtoms(atom.GetIdx(), neighbor.GetIdx())\n",
    "            pair_indices.append([atom.GetIdx(), neighbor.GetIdx()])\n",
    "            bond_features.append(bond_featurizer.encode(bond))\n",
    "\n",
    "    return np.array(atom_features), np.array(bond_features), np.array(pair_indices)\n",
    "\n",
    "\n",
    "def graphs_from_smiles(smiles_list):\n",
    "    # Initialize graphs\n",
    "    atom_features_list = []\n",
    "    bond_features_list = []\n",
    "    pair_indices_list = []\n",
    "\n",
    "    for smiles in smiles_list:\n",
    "        molecule = molecule_from_smiles(smiles)\n",
    "        atom_features, bond_features, pair_indices = graph_from_molecule(molecule)\n",
    "\n",
    "        atom_features_list.append(atom_features)\n",
    "        bond_features_list.append(bond_features)\n",
    "        pair_indices_list.append(pair_indices)\n",
    "\n",
    "    # Convert lists to ragged tensors for tf.data.Dataset later on\n",
    "    return (\n",
    "        tf.ragged.constant(atom_features_list, dtype=tf.float32),\n",
    "        tf.ragged.constant(bond_features_list, dtype=tf.float32),\n",
    "        tf.ragged.constant(pair_indices_list, dtype=tf.int64),)\n"
   ]
  },
  {
   "cell_type": "code",
   "execution_count": 132,
   "id": "6d4617a3",
   "metadata": {},
   "outputs": [],
   "source": [
    "bad_mol = []\n",
    "for i in df.SMILES_relaxed:\n",
    "    try:\n",
    "        molecule_from_smiles(i)\n",
    "    except:\n",
    "        bad_mol.append(i)"
   ]
  },
  {
   "cell_type": "code",
   "execution_count": 133,
   "id": "2b6d775b",
   "metadata": {},
   "outputs": [],
   "source": [
    "df = df[~df['SMILES_relaxed'].isin(bad_mol)]"
   ]
  },
  {
   "cell_type": "code",
   "execution_count": 134,
   "id": "c5f46e74",
   "metadata": {},
   "outputs": [],
   "source": [
    "X = df['SMILES_relaxed']\n",
    "y = df[['homo','lumo']]"
   ]
  },
  {
   "cell_type": "code",
   "execution_count": 135,
   "id": "b9e63930",
   "metadata": {},
   "outputs": [],
   "source": [
    "X_nontest, X_test, y_nontest, y_test = train_test_split(X, y, test_size=0.20, random_state=42)"
   ]
  },
  {
   "cell_type": "code",
   "execution_count": 136,
   "id": "df7f7bf1",
   "metadata": {},
   "outputs": [],
   "source": [
    "X_train, X_val, y_train, y_val = train_test_split(X_nontest, y_nontest, test_size=0.20, random_state=42)"
   ]
  },
  {
   "cell_type": "code",
   "execution_count": 137,
   "id": "6e37ff26",
   "metadata": {},
   "outputs": [
    {
     "data": {
      "text/plain": [
       "((85660,), (85660, 2))"
      ]
     },
     "execution_count": 137,
     "metadata": {},
     "output_type": "execute_result"
    }
   ],
   "source": [
    "X_train.shape, y_train.shape"
   ]
  },
  {
   "cell_type": "code",
   "execution_count": 138,
   "id": "57389bab",
   "metadata": {},
   "outputs": [
    {
     "data": {
      "text/plain": [
       "((21416,), (21416, 2))"
      ]
     },
     "execution_count": 138,
     "metadata": {},
     "output_type": "execute_result"
    }
   ],
   "source": [
    "X_val.shape, y_val.shape"
   ]
  },
  {
   "cell_type": "code",
   "execution_count": 139,
   "id": "da2af4d2",
   "metadata": {},
   "outputs": [
    {
     "data": {
      "text/plain": [
       "((26769,), (26769, 2))"
      ]
     },
     "execution_count": 139,
     "metadata": {},
     "output_type": "execute_result"
    }
   ],
   "source": [
    "X_test.shape, y_test.shape"
   ]
  },
  {
   "cell_type": "code",
   "execution_count": 140,
   "id": "fa497552",
   "metadata": {},
   "outputs": [
    {
     "data": {
      "image/png": "[encoded data removed]",
      "text/plain": [
       "<rdkit.Chem.rdchem.Mol at 0x18006ee80>"
      ]
     },
     "execution_count": 140,
     "metadata": {},
     "output_type": "execute_result"
    }
   ],
   "source": [
    "molecule = molecule_from_smiles(df.iloc[50].SMILES_relaxed)\n",
    "molecule"
   ]
  },
  {
   "cell_type": "code",
   "execution_count": 141,
   "id": "484a5bec",
   "metadata": {},
   "outputs": [
    {
     "name": "stdout",
     "output_type": "stream",
     "text": [
      "Graph (including self-loops):\n",
      "\tatom features\t (5, 29)\n",
      "\tbond features\t (15, 7)\n",
      "\tpair indices\t (15, 2)\n"
     ]
    }
   ],
   "source": [
    "graph = graph_from_molecule(molecule)\n",
    "print(\"Graph (including self-loops):\")\n",
    "print(\"\\tatom features\\t\", graph[0].shape)\n",
    "print(\"\\tbond features\\t\", graph[1].shape)\n",
    "print(\"\\tpair indices\\t\", graph[2].shape)"
   ]
  },
  {
   "cell_type": "code",
   "execution_count": 142,
   "id": "5bd03388",
   "metadata": {},
   "outputs": [],
   "source": [
    "X_train_graph = graphs_from_smiles(X_train)\n",
    "X_val_graph = graphs_from_smiles(X_val)\n",
    "X_test_graph = graphs_from_smiles(X_test)"
   ]
  },
  {
   "cell_type": "markdown",
   "id": "c2782e26",
   "metadata": {},
   "source": [
    "## Merge graphs"
   ]
  },
  {
   "cell_type": "markdown",
   "id": "24bcaaf7",
   "metadata": {},
   "source": [
    "Make global graph where it is a disconnected graph. The subgraph is completely separated from the other subgraphs.\n",
    "https://keras.io/examples/graph/mpnn-molecular-graphs/"
   ]
  },
  {
   "cell_type": "code",
   "execution_count": 143,
   "id": "31cfbd56",
   "metadata": {},
   "outputs": [],
   "source": [
    "def prepare_batch(x_batch, y_batch):\n",
    "    \"\"\"Merges (sub)graphs of batch into a single global (disconnected) graph\n",
    "    \"\"\"\n",
    "\n",
    "    atom_features, bond_features, pair_indices = x_batch\n",
    "\n",
    "    # Obtain number of atoms and bonds for each graph (molecule)\n",
    "    num_atoms = atom_features.row_lengths()\n",
    "    num_bonds = bond_features.row_lengths()\n",
    "\n",
    "    # Obtain partition indices (molecule_indicator), which will be used to\n",
    "    # gather (sub)graphs from global graph in model later on\n",
    "    molecule_indices = tf.range(len(num_atoms))\n",
    "    molecule_indicator = tf.repeat(molecule_indices, num_atoms)\n",
    "\n",
    "    # Merge (sub)graphs into a global (disconnected) graph. Adding 'increment' to\n",
    "    # 'pair_indices' (and merging ragged tensors) actualizes the global graph\n",
    "    gather_indices = tf.repeat(molecule_indices[:-1], num_bonds[1:])\n",
    "    increment = tf.cumsum(num_atoms[:-1])\n",
    "    increment = tf.pad(tf.gather(increment, gather_indices), [(num_bonds[0], 0)])\n",
    "    pair_indices = pair_indices.merge_dims(outer_axis=0, inner_axis=1).to_tensor()\n",
    "    pair_indices = pair_indices + increment[:, tf.newaxis]\n",
    "    atom_features = atom_features.merge_dims(outer_axis=0, inner_axis=1).to_tensor()\n",
    "    bond_features = bond_features.merge_dims(outer_axis=0, inner_axis=1).to_tensor()\n",
    "\n",
    "    return (atom_features, bond_features, pair_indices, molecule_indicator), y_batch\n",
    "\n",
    "\n",
    "def MPNNDataset(X, y, batch_size=32, shuffle=False):\n",
    "    dataset = tf.data.Dataset.from_tensor_slices((X, (y)))\n",
    "    if shuffle:\n",
    "        dataset = dataset.shuffle(1024)\n",
    "    return dataset.batch(batch_size).map(prepare_batch, -1).prefetch(-1)"
   ]
  },
  {
   "cell_type": "code",
   "execution_count": 144,
   "id": "8a1c5676",
   "metadata": {},
   "outputs": [],
   "source": [
    "class EdgeNetwork(layers.Layer):\n",
    "    def build(self, input_shape):\n",
    "        self.atom_dim = input_shape[0][-1]\n",
    "        self.bond_dim = input_shape[1][-1]\n",
    "        self.kernel = self.add_weight(\n",
    "            shape=(self.bond_dim, self.atom_dim * self.atom_dim),\n",
    "            initializer=\"glorot_uniform\",\n",
    "            name=\"kernel\",)\n",
    "        \n",
    "        self.bias = self.add_weight(\n",
    "            shape=(self.atom_dim * self.atom_dim), initializer=\"zeros\", name=\"bias\",)\n",
    "        self.built = True\n",
    "\n",
    "    def call(self, inputs):\n",
    "        atom_features, bond_features, pair_indices = inputs\n",
    "\n",
    "        # Apply linear transformation to bond features\n",
    "        bond_features = tf.matmul(bond_features, self.kernel) + self.bias\n",
    "\n",
    "        # Reshape for neighborhood aggregation later\n",
    "        bond_features = tf.reshape(bond_features, (-1, self.atom_dim, self.atom_dim))\n",
    "\n",
    "        # Obtain atom features of neighbors\n",
    "        atom_features_neighbors = tf.gather(atom_features, pair_indices[:, 1])\n",
    "        atom_features_neighbors = tf.expand_dims(atom_features_neighbors, axis=-1)\n",
    "\n",
    "        # Apply neighborhood aggregation\n",
    "        transformed_features = tf.matmul(bond_features, atom_features_neighbors)\n",
    "        transformed_features = tf.squeeze(transformed_features, axis=-1)\n",
    "        aggregated_features = tf.math.unsorted_segment_sum(\n",
    "            transformed_features,\n",
    "            pair_indices[:, 0],\n",
    "            num_segments=tf.shape(atom_features)[0],)\n",
    "        return aggregated_features\n",
    "\n",
    "\n",
    "class MessagePassing(layers.Layer):\n",
    "    def __init__(self, units, steps=4, **kwargs):\n",
    "        super().__init__(**kwargs)\n",
    "        self.units = units\n",
    "        self.steps = steps\n",
    "\n",
    "    def build(self, input_shape):\n",
    "        self.atom_dim = input_shape[0][-1]\n",
    "        self.message_step = EdgeNetwork()\n",
    "        self.pad_length = max(0, self.units - self.atom_dim)\n",
    "        self.update_step = layers.GRUCell(self.atom_dim + self.pad_length)\n",
    "        self.built = True\n",
    "\n",
    "    def call(self, inputs):\n",
    "        atom_features, bond_features, pair_indices = inputs\n",
    "\n",
    "        # Pad atom features if number of desired units exceeds atom_features dim.\n",
    "        # Alternatively, a dense layer could be used here.\n",
    "        atom_features_updated = tf.pad(atom_features, [(0, 0), (0, self.pad_length)])\n",
    "\n",
    "        # Perform a number of steps of message passing\n",
    "        for i in range(self.steps):\n",
    "            # Aggregate information from neighbors\n",
    "            atom_features_aggregated = self.message_step(\n",
    "                [atom_features_updated, bond_features, pair_indices])\n",
    "\n",
    "            # Update node state via a step of GRU\n",
    "            atom_features_updated, _ = self.update_step(\n",
    "                atom_features_aggregated, atom_features_updated)\n",
    "        return atom_features_updated"
   ]
  },
  {
   "cell_type": "code",
   "execution_count": 145,
   "id": "e26e7ce9",
   "metadata": {},
   "outputs": [],
   "source": [
    "class PartitionPadding(layers.Layer):\n",
    "    def __init__(self, batch_size, **kwargs):\n",
    "        super().__init__(**kwargs)\n",
    "        self.batch_size = batch_size\n",
    "\n",
    "    def call(self, inputs):\n",
    "\n",
    "        atom_features, molecule_indicator = inputs\n",
    "\n",
    "        # Obtain subgraphs\n",
    "        atom_features_partitioned = tf.dynamic_partition(\n",
    "            atom_features, molecule_indicator, self.batch_size\n",
    "        )\n",
    "\n",
    "        # Pad and stack subgraphs\n",
    "        num_atoms = [tf.shape(f)[0] for f in atom_features_partitioned]\n",
    "        max_num_atoms = tf.reduce_max(num_atoms)\n",
    "        atom_features_stacked = tf.stack(\n",
    "            [\n",
    "                tf.pad(f, [(0, max_num_atoms - n), (0, 0)])\n",
    "                for f, n in zip(atom_features_partitioned, num_atoms)\n",
    "            ],axis=0,)\n",
    "\n",
    "        # Remove empty subgraphs (usually for last batch in dataset)\n",
    "        gather_indices = tf.where(tf.reduce_sum(atom_features_stacked, (1, 2)) != 0)\n",
    "        gather_indices = tf.squeeze(gather_indices, axis=-1)\n",
    "        return tf.gather(atom_features_stacked, gather_indices, axis=0)\n",
    "\n",
    "\n",
    "class TransformerEncoderReadout(layers.Layer):\n",
    "    def __init__(\n",
    "        self, num_heads=8, embed_dim=64, dense_dim=512, batch_size=32, **kwargs):\n",
    "        super().__init__(**kwargs)\n",
    "\n",
    "        self.partition_padding = PartitionPadding(batch_size)\n",
    "        self.attention = layers.MultiHeadAttention(num_heads, embed_dim)\n",
    "        self.dense_proj = keras.Sequential(\n",
    "            [layers.Dense(dense_dim, activation=\"relu\"), layers.Dense(embed_dim),])\n",
    "        self.layernorm_1 = layers.LayerNormalization()\n",
    "        self.layernorm_2 = layers.LayerNormalization()\n",
    "        self.average_pooling = layers.GlobalAveragePooling1D()\n",
    "\n",
    "    def call(self, inputs):\n",
    "        x = self.partition_padding(inputs)\n",
    "        padding_mask = tf.reduce_any(tf.not_equal(x, 0.0), axis=-1)\n",
    "        padding_mask = padding_mask[:, tf.newaxis, tf.newaxis, :]\n",
    "        attention_output = self.attention(x, x, attention_mask=padding_mask)\n",
    "        proj_input = self.layernorm_1(x + attention_output)\n",
    "        proj_output = self.layernorm_2(proj_input + self.dense_proj(proj_input))\n",
    "        return self.average_pooling(proj_output)"
   ]
  },
  {
   "cell_type": "code",
   "execution_count": 146,
   "id": "69928180",
   "metadata": {},
   "outputs": [],
   "source": [
    "def MPNNModel(atom_dim,bond_dim,batch_size=32,message_units=64,message_steps=4,num_attention_heads=8,dense_units=512,):\n",
    "\n",
    "    atom_features = layers.Input((atom_dim), dtype=\"float32\", name=\"atom_features\")\n",
    "    bond_features = layers.Input((bond_dim), dtype=\"float32\", name=\"bond_features\")\n",
    "    pair_indices = layers.Input((2), dtype=\"int32\", name=\"pair_indices\")\n",
    "    molecule_indicator = layers.Input((), dtype=\"int32\", name=\"molecule_indicator\")\n",
    "\n",
    "    x = MessagePassing(message_units, message_steps)(\n",
    "        [atom_features, bond_features, pair_indices])\n",
    "\n",
    "    x = TransformerEncoderReadout(\n",
    "        num_attention_heads, message_units, dense_units, batch_size)([x, molecule_indicator])\n",
    "\n",
    "    x = layers.Dense(dense_units, activation=\"relu\")(x)\n",
    "    x = layers.Dense(2)(x)\n",
    "\n",
    "    model = keras.Model(\n",
    "        inputs=[atom_features, bond_features, pair_indices, molecule_indicator],\n",
    "        outputs=[x],)\n",
    "    return model"
   ]
  },
  {
   "cell_type": "code",
   "execution_count": 147,
   "id": "ca4a77a8",
   "metadata": {},
   "outputs": [
    {
     "name": "stdout",
     "output_type": "stream",
     "text": [
      "You must install pydot (`pip install pydot`) and install graphviz (see instructions at https://graphviz.gitlab.io/download/) for plot_model/model_to_dot to work.\n"
     ]
    }
   ],
   "source": [
    "mpnn = MPNNModel(atom_dim=X_train_graph[0][0][0].shape[0], bond_dim=X_train_graph[1][0][0].shape[0],)\n",
    "\n",
    "mpnn.compile(\n",
    "    loss='mse',\n",
    "    optimizer=keras.optimizers.Adam(learning_rate=5e-4),\n",
    "    metrics=[tf.keras.metrics.MeanSquaredError()],)\n",
    "\n",
    "keras.utils.plot_model(mpnn, show_dtype=True, show_shapes=True)"
   ]
  },
  {
   "cell_type": "code",
   "execution_count": 148,
   "id": "b5025a02",
   "metadata": {},
   "outputs": [
    {
     "name": "stdout",
     "output_type": "stream",
     "text": [
      "Model: \"model_3\"\n",
      "__________________________________________________________________________________________________\n",
      " Layer (type)                   Output Shape         Param #     Connected to                     \n",
      "==================================================================================================\n",
      " atom_features (InputLayer)     [(None, 29)]         0           []                               \n",
      "                                                                                                  \n",
      " bond_features (InputLayer)     [(None, 7)]          0           []                               \n",
      "                                                                                                  \n",
      " pair_indices (InputLayer)      [(None, 2)]          0           []                               \n",
      "                                                                                                  \n",
      " message_passing_3 (MessagePass  (None, 64)          57728       ['atom_features[0][0]',          \n",
      " ing)                                                             'bond_features[0][0]',          \n",
      "                                                                  'pair_indices[0][0]']           \n",
      "                                                                                                  \n",
      " molecule_indicator (InputLayer  [(None,)]           0           []                               \n",
      " )                                                                                                \n",
      "                                                                                                  \n",
      " transformer_encoder_readout_3   (None, 64)          199040      ['message_passing_3[0][0]',      \n",
      " (TransformerEncoderReadout)                                      'molecule_indicator[0][0]']     \n",
      "                                                                                                  \n",
      " dense_14 (Dense)               (None, 512)          33280       ['transformer_encoder_readout_3[0\n",
      "                                                                 ][0]']                           \n",
      "                                                                                                  \n",
      " dense_15 (Dense)               (None, 2)            1026        ['dense_14[0][0]']               \n",
      "                                                                                                  \n",
      "==================================================================================================\n",
      "Total params: 291,074\n",
      "Trainable params: 291,074\n",
      "Non-trainable params: 0\n",
      "__________________________________________________________________________________________________\n"
     ]
    }
   ],
   "source": [
    "mpnn.summary()"
   ]
  },
  {
   "cell_type": "code",
   "execution_count": 149,
   "id": "4fa94c89",
   "metadata": {},
   "outputs": [],
   "source": [
    "train_dataset = MPNNDataset(X_train_graph, y_train)\n",
    "valid_dataset = MPNNDataset(X_val_graph, y_val)\n",
    "test_dataset = MPNNDataset(X_test_graph, y_test)"
   ]
  },
  {
   "cell_type": "code",
   "execution_count": 150,
   "id": "df5c046c",
   "metadata": {},
   "outputs": [
    {
     "name": "stdout",
     "output_type": "stream",
     "text": [
      "Epoch 1/20\n",
      "2677/2677 - 338s - loss: 5.9702e-04 - mean_squared_error: 5.9702e-04 - val_loss: 2.1657e-04 - val_mean_squared_error: 2.1657e-04 - 338s/epoch - 126ms/step\n",
      "Epoch 2/20\n",
      "2677/2677 - 329s - loss: 1.8693e-04 - mean_squared_error: 1.8693e-04 - val_loss: 1.3436e-04 - val_mean_squared_error: 1.3436e-04 - 329s/epoch - 123ms/step\n",
      "Epoch 3/20\n",
      "2677/2677 - 339s - loss: 1.4243e-04 - mean_squared_error: 1.4243e-04 - val_loss: 1.1769e-04 - val_mean_squared_error: 1.1769e-04 - 339s/epoch - 127ms/step\n",
      "Epoch 4/20\n",
      "2677/2677 - 343s - loss: 1.1886e-04 - mean_squared_error: 1.1886e-04 - val_loss: 8.7806e-05 - val_mean_squared_error: 8.7806e-05 - 343s/epoch - 128ms/step\n",
      "Epoch 5/20\n",
      "2677/2677 - 325s - loss: 1.0390e-04 - mean_squared_error: 1.0390e-04 - val_loss: 8.7933e-05 - val_mean_squared_error: 8.7933e-05 - 325s/epoch - 121ms/step\n",
      "Epoch 6/20\n",
      "2677/2677 - 322s - loss: 8.4468e-05 - mean_squared_error: 8.4468e-05 - val_loss: 8.9436e-05 - val_mean_squared_error: 8.9436e-05 - 322s/epoch - 120ms/step\n",
      "Epoch 7/20\n",
      "2677/2677 - 328s - loss: 7.4482e-05 - mean_squared_error: 7.4482e-05 - val_loss: 8.1082e-05 - val_mean_squared_error: 8.1082e-05 - 328s/epoch - 122ms/step\n",
      "Epoch 8/20\n",
      "2677/2677 - 325s - loss: 6.6641e-05 - mean_squared_error: 6.6641e-05 - val_loss: 5.6373e-05 - val_mean_squared_error: 5.6373e-05 - 325s/epoch - 122ms/step\n",
      "Epoch 9/20\n",
      "2677/2677 - 323s - loss: 5.9727e-05 - mean_squared_error: 5.9727e-05 - val_loss: 4.9561e-05 - val_mean_squared_error: 4.9561e-05 - 323s/epoch - 121ms/step\n",
      "Epoch 10/20\n",
      "2677/2677 - 324s - loss: 5.3264e-05 - mean_squared_error: 5.3264e-05 - val_loss: 4.7752e-05 - val_mean_squared_error: 4.7752e-05 - 324s/epoch - 121ms/step\n",
      "Epoch 11/20\n",
      "2677/2677 - 326s - loss: 4.8365e-05 - mean_squared_error: 4.8365e-05 - val_loss: 4.7631e-05 - val_mean_squared_error: 4.7631e-05 - 326s/epoch - 122ms/step\n",
      "Epoch 12/20\n",
      "2677/2677 - 325s - loss: 4.5014e-05 - mean_squared_error: 4.5014e-05 - val_loss: 4.7123e-05 - val_mean_squared_error: 4.7123e-05 - 325s/epoch - 122ms/step\n",
      "Epoch 13/20\n",
      "2677/2677 - 327s - loss: 4.1806e-05 - mean_squared_error: 4.1806e-05 - val_loss: 4.3386e-05 - val_mean_squared_error: 4.3386e-05 - 327s/epoch - 122ms/step\n",
      "Epoch 14/20\n",
      "2677/2677 - 326s - loss: 3.9733e-05 - mean_squared_error: 3.9733e-05 - val_loss: 4.1160e-05 - val_mean_squared_error: 4.1160e-05 - 326s/epoch - 122ms/step\n",
      "Epoch 15/20\n",
      "2677/2677 - 318s - loss: 3.7561e-05 - mean_squared_error: 3.7561e-05 - val_loss: 3.9925e-05 - val_mean_squared_error: 3.9925e-05 - 318s/epoch - 119ms/step\n",
      "Epoch 16/20\n",
      "2677/2677 - 302s - loss: 3.5924e-05 - mean_squared_error: 3.5924e-05 - val_loss: 3.8675e-05 - val_mean_squared_error: 3.8675e-05 - 302s/epoch - 113ms/step\n",
      "Epoch 17/20\n",
      "2677/2677 - 302s - loss: 3.4264e-05 - mean_squared_error: 3.4264e-05 - val_loss: 3.8646e-05 - val_mean_squared_error: 3.8646e-05 - 302s/epoch - 113ms/step\n",
      "Epoch 18/20\n",
      "2677/2677 - 314s - loss: 3.2905e-05 - mean_squared_error: 3.2905e-05 - val_loss: 3.8853e-05 - val_mean_squared_error: 3.8853e-05 - 314s/epoch - 117ms/step\n",
      "Epoch 19/20\n",
      "2677/2677 - 334s - loss: 3.1897e-05 - mean_squared_error: 3.1897e-05 - val_loss: 4.1059e-05 - val_mean_squared_error: 4.1059e-05 - 334s/epoch - 125ms/step\n",
      "Epoch 20/20\n",
      "2677/2677 - 315s - loss: 3.1214e-05 - mean_squared_error: 3.1214e-05 - val_loss: 3.3947e-05 - val_mean_squared_error: 3.3947e-05 - 315s/epoch - 118ms/step\n"
     ]
    }
   ],
   "source": [
    "history = mpnn.fit(\n",
    "    train_dataset,\n",
    "    validation_data=valid_dataset,\n",
    "    epochs=20,\n",
    "    verbose=2,)"
   ]
  },
  {
   "cell_type": "code",
   "execution_count": 151,
   "id": "06ab0bd0",
   "metadata": {},
   "outputs": [
    {
     "data": {
      "text/plain": [
       "<matplotlib.legend.Legend at 0x179c2c100>"
      ]
     },
     "execution_count": 151,
     "metadata": {},
     "output_type": "execute_result"
    },
    {
     "data": {
      "image/png": "[encoded data removed]",
      "text/plain": [
       "<Figure size 720x432 with 1 Axes>"
      ]
     },
     "metadata": {
      "needs_background": "light"
     },
     "output_type": "display_data"
    }
   ],
   "source": [
    "plt.figure(figsize=(10, 6))\n",
    "plt.plot(history.history[\"loss\"], label=\"train loss\")\n",
    "plt.plot(history.history[\"val_loss\"], label=\"valid loss\")\n",
    "plt.xlabel(\"Epochs\", fontsize=16)\n",
    "plt.ylabel(\"loss\", fontsize=16)\n",
    "plt.legend(fontsize=16)"
   ]
  },
  {
   "cell_type": "code",
   "execution_count": 152,
   "id": "b4972efb",
   "metadata": {},
   "outputs": [
    {
     "name": "stderr",
     "output_type": "stream",
     "text": [
      "WARNING:absl:Found untraced functions such as edge_network_layer_call_fn, edge_network_layer_call_and_return_conditional_losses, gru_cell_layer_call_fn, gru_cell_layer_call_and_return_conditional_losses, partition_padding_3_layer_call_fn while saving (showing 5 of 24). These functions will not be directly callable after loading.\n"
     ]
    },
    {
     "name": "stdout",
     "output_type": "stream",
     "text": [
      "INFO:tensorflow:Assets written to: ../model/mymodel-1/assets\n"
     ]
    },
    {
     "name": "stderr",
     "output_type": "stream",
     "text": [
      "INFO:tensorflow:Assets written to: ../model/mymodel-1/assets\n"
     ]
    }
   ],
   "source": [
    "mpnn.save('../model/mymodel-1')"
   ]
  },
  {
   "cell_type": "code",
   "execution_count": 153,
   "id": "27024ba6",
   "metadata": {},
   "outputs": [],
   "source": [
    "y_pred = mpnn.predict(test_dataset)"
   ]
  },
  {
   "cell_type": "code",
   "execution_count": 156,
   "id": "e7147740",
   "metadata": {},
   "outputs": [
    {
     "data": {
      "image/png": "[encoded data removed]",
      "text/plain": [
       "<Figure size 432x288 with 1 Axes>"
      ]
     },
     "metadata": {
      "needs_background": "light"
     },
     "output_type": "display_data"
    }
   ],
   "source": [
    "plt.scatter(y_test['homo'], y_pred[:,0])\n",
    "plt.xlabel('True')\n",
    "plt.ylabel('Predict')\n",
    "plt.title('HOMO energy')\n",
    "plt.show()"
   ]
  },
  {
   "cell_type": "code",
   "execution_count": 157,
   "id": "6c439751",
   "metadata": {},
   "outputs": [
    {
     "data": {
      "image/png": "[encoded data removed]",
      "text/plain": [
       "<Figure size 432x288 with 1 Axes>"
      ]
     },
     "metadata": {
      "needs_background": "light"
     },
     "output_type": "display_data"
    }
   ],
   "source": [
    "plt.scatter(y_test['lumo'], y_pred[:,1])\n",
    "plt.xlabel('True')\n",
    "plt.ylabel('Predict')\n",
    "plt.title('LUMO energy')\n",
    "plt.show()"
   ]
  },
  {
   "cell_type": "code",
   "execution_count": null,
   "id": "611ac221",
   "metadata": {},
   "outputs": [],
   "source": []
  }
 ],
 "metadata": {
  "kernelspec": {
   "display_name": "Python 3 (ipykernel)",
   "language": "python",
   "name": "python3"
  },
  "language_info": {
   "codemirror_mode": {
    "name": "ipython",
    "version": 3
   },
   "file_extension": ".py",
   "mimetype": "text/x-python",
   "name": "python",
   "nbconvert_exporter": "python",
   "pygments_lexer": "ipython3",
   "version": "3.9.10"
  }
 },
 "nbformat": 4,
 "nbformat_minor": 5
}
