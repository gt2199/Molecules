{
 "cells": [
  {
   "cell_type": "code",
   "execution_count": 1,
   "id": "1489a440",
   "metadata": {},
   "outputs": [],
   "source": [
    "import tensorflow as tf\n",
    "from tensorflow import keras\n",
    "from tensorflow.keras import layers\n",
    "import numpy as np\n",
    "import pandas as pd\n",
    "import matplotlib.pyplot as plt\n",
    "import seaborn as sns\n",
    "import warnings\n",
    "from rdkit import Chem\n",
    "from rdkit import RDLogger\n",
    "from rdkit.Chem.Draw import IPythonConsole\n",
    "from rdkit.Chem.Draw import MolsToGridImage\n",
    "from sklearn.model_selection import train_test_split\n",
    "from sklearn.metrics import mean_squared_error\n",
    "from sklearn.metrics import r2_score\n",
    "from sklearn.preprocessing import StandardScaler"
   ]
  },
  {
   "cell_type": "code",
   "execution_count": 2,
   "id": "a0fbae2d",
   "metadata": {},
   "outputs": [],
   "source": [
    "warnings.filterwarnings(\"ignore\")\n",
    "RDLogger.DisableLog(\"rdApp.*\")"
   ]
  },
  {
   "cell_type": "code",
   "execution_count": 3,
   "id": "3eefed31",
   "metadata": {},
   "outputs": [],
   "source": [
    "df = pd.read_csv('../data/data_cleaned.csv')"
   ]
  },
  {
   "cell_type": "code",
   "execution_count": 4,
   "id": "068ebe13",
   "metadata": {},
   "outputs": [
    {
     "data": {
      "text/html": [
       "<div>\n",
       "<style scoped>\n",
       "    .dataframe tbody tr th:only-of-type {\n",
       "        vertical-align: middle;\n",
       "    }\n",
       "\n",
       "    .dataframe tbody tr th {\n",
       "        vertical-align: top;\n",
       "    }\n",
       "\n",
       "    .dataframe thead th {\n",
       "        text-align: right;\n",
       "    }\n",
       "</style>\n",
       "<table border=\"1\" class=\"dataframe\">\n",
       "  <thead>\n",
       "    <tr style=\"text-align: right;\">\n",
       "      <th></th>\n",
       "      <th>index</th>\n",
       "      <th>tag</th>\n",
       "      <th>A</th>\n",
       "      <th>B</th>\n",
       "      <th>C</th>\n",
       "      <th>mu</th>\n",
       "      <th>alpha</th>\n",
       "      <th>homo</th>\n",
       "      <th>lumo</th>\n",
       "      <th>gap</th>\n",
       "      <th>r2</th>\n",
       "      <th>zpve</th>\n",
       "      <th>U0</th>\n",
       "      <th>U</th>\n",
       "      <th>H</th>\n",
       "      <th>G</th>\n",
       "      <th>Cv</th>\n",
       "      <th>SMILES_GDB9</th>\n",
       "      <th>SMILES_relaxed</th>\n",
       "    </tr>\n",
       "  </thead>\n",
       "  <tbody>\n",
       "    <tr>\n",
       "      <th>0</th>\n",
       "      <td>1</td>\n",
       "      <td>gdb</td>\n",
       "      <td>157.71180</td>\n",
       "      <td>157.709970</td>\n",
       "      <td>157.706990</td>\n",
       "      <td>0.0000</td>\n",
       "      <td>13.21</td>\n",
       "      <td>-0.3877</td>\n",
       "      <td>0.1171</td>\n",
       "      <td>0.5048</td>\n",
       "      <td>35.3641</td>\n",
       "      <td>0.044749</td>\n",
       "      <td>-40.478930</td>\n",
       "      <td>-40.476062</td>\n",
       "      <td>-40.475117</td>\n",
       "      <td>-40.498597</td>\n",
       "      <td>6.469</td>\n",
       "      <td>C</td>\n",
       "      <td>C</td>\n",
       "    </tr>\n",
       "    <tr>\n",
       "      <th>1</th>\n",
       "      <td>2</td>\n",
       "      <td>gdb</td>\n",
       "      <td>293.60975</td>\n",
       "      <td>293.541110</td>\n",
       "      <td>191.393970</td>\n",
       "      <td>1.6256</td>\n",
       "      <td>9.46</td>\n",
       "      <td>-0.2570</td>\n",
       "      <td>0.0829</td>\n",
       "      <td>0.3399</td>\n",
       "      <td>26.1563</td>\n",
       "      <td>0.034358</td>\n",
       "      <td>-56.525887</td>\n",
       "      <td>-56.523026</td>\n",
       "      <td>-56.522082</td>\n",
       "      <td>-56.544961</td>\n",
       "      <td>6.316</td>\n",
       "      <td>N</td>\n",
       "      <td>N</td>\n",
       "    </tr>\n",
       "    <tr>\n",
       "      <th>2</th>\n",
       "      <td>3</td>\n",
       "      <td>gdb</td>\n",
       "      <td>799.58812</td>\n",
       "      <td>437.903860</td>\n",
       "      <td>282.945450</td>\n",
       "      <td>1.8511</td>\n",
       "      <td>6.31</td>\n",
       "      <td>-0.2928</td>\n",
       "      <td>0.0687</td>\n",
       "      <td>0.3615</td>\n",
       "      <td>19.0002</td>\n",
       "      <td>0.021375</td>\n",
       "      <td>-76.404702</td>\n",
       "      <td>-76.401867</td>\n",
       "      <td>-76.400922</td>\n",
       "      <td>-76.422349</td>\n",
       "      <td>6.002</td>\n",
       "      <td>O</td>\n",
       "      <td>O</td>\n",
       "    </tr>\n",
       "    <tr>\n",
       "      <th>3</th>\n",
       "      <td>4</td>\n",
       "      <td>gdb</td>\n",
       "      <td>0.00000</td>\n",
       "      <td>35.610036</td>\n",
       "      <td>35.610036</td>\n",
       "      <td>0.0000</td>\n",
       "      <td>16.28</td>\n",
       "      <td>-0.2845</td>\n",
       "      <td>0.0506</td>\n",
       "      <td>0.3351</td>\n",
       "      <td>59.5248</td>\n",
       "      <td>0.026841</td>\n",
       "      <td>-77.308427</td>\n",
       "      <td>-77.305527</td>\n",
       "      <td>-77.304583</td>\n",
       "      <td>-77.327429</td>\n",
       "      <td>8.574</td>\n",
       "      <td>C#C</td>\n",
       "      <td>C#C</td>\n",
       "    </tr>\n",
       "    <tr>\n",
       "      <th>4</th>\n",
       "      <td>5</td>\n",
       "      <td>gdb</td>\n",
       "      <td>0.00000</td>\n",
       "      <td>44.593883</td>\n",
       "      <td>44.593883</td>\n",
       "      <td>2.8937</td>\n",
       "      <td>12.99</td>\n",
       "      <td>-0.3604</td>\n",
       "      <td>0.0191</td>\n",
       "      <td>0.3796</td>\n",
       "      <td>48.7476</td>\n",
       "      <td>0.016601</td>\n",
       "      <td>-93.411888</td>\n",
       "      <td>-93.409370</td>\n",
       "      <td>-93.408425</td>\n",
       "      <td>-93.431246</td>\n",
       "      <td>6.278</td>\n",
       "      <td>C#N</td>\n",
       "      <td>C#N</td>\n",
       "    </tr>\n",
       "    <tr>\n",
       "      <th>...</th>\n",
       "      <td>...</td>\n",
       "      <td>...</td>\n",
       "      <td>...</td>\n",
       "      <td>...</td>\n",
       "      <td>...</td>\n",
       "      <td>...</td>\n",
       "      <td>...</td>\n",
       "      <td>...</td>\n",
       "      <td>...</td>\n",
       "      <td>...</td>\n",
       "      <td>...</td>\n",
       "      <td>...</td>\n",
       "      <td>...</td>\n",
       "      <td>...</td>\n",
       "      <td>...</td>\n",
       "      <td>...</td>\n",
       "      <td>...</td>\n",
       "      <td>...</td>\n",
       "      <td>...</td>\n",
       "    </tr>\n",
       "    <tr>\n",
       "      <th>133880</th>\n",
       "      <td>133881</td>\n",
       "      <td>gdb</td>\n",
       "      <td>3.59483</td>\n",
       "      <td>2.198990</td>\n",
       "      <td>1.904230</td>\n",
       "      <td>1.6637</td>\n",
       "      <td>69.37</td>\n",
       "      <td>-0.2254</td>\n",
       "      <td>0.0588</td>\n",
       "      <td>0.2842</td>\n",
       "      <td>760.7472</td>\n",
       "      <td>0.127406</td>\n",
       "      <td>-400.633868</td>\n",
       "      <td>-400.628599</td>\n",
       "      <td>-400.627654</td>\n",
       "      <td>-400.663098</td>\n",
       "      <td>23.658</td>\n",
       "      <td>C1C2C3C4C5OC14C5N23</td>\n",
       "      <td>C1[C@@H]2[C@@H]3[C@H]4[C@@H]5O[C@]14[C@@H]5N23</td>\n",
       "    </tr>\n",
       "    <tr>\n",
       "      <th>133881</th>\n",
       "      <td>133882</td>\n",
       "      <td>gdb</td>\n",
       "      <td>3.65648</td>\n",
       "      <td>2.142370</td>\n",
       "      <td>1.904390</td>\n",
       "      <td>1.2976</td>\n",
       "      <td>69.52</td>\n",
       "      <td>-0.2393</td>\n",
       "      <td>0.0608</td>\n",
       "      <td>0.3002</td>\n",
       "      <td>762.6354</td>\n",
       "      <td>0.127495</td>\n",
       "      <td>-400.629713</td>\n",
       "      <td>-400.624444</td>\n",
       "      <td>-400.623500</td>\n",
       "      <td>-400.658942</td>\n",
       "      <td>23.697</td>\n",
       "      <td>C1N2C3C2C2C4OC12C34</td>\n",
       "      <td>C1N2[C@H]3[C@@H]2[C@@H]2[C@H]4O[C@@]12[C@@H]34</td>\n",
       "    </tr>\n",
       "    <tr>\n",
       "      <th>133882</th>\n",
       "      <td>133883</td>\n",
       "      <td>gdb</td>\n",
       "      <td>3.67118</td>\n",
       "      <td>2.143140</td>\n",
       "      <td>1.895010</td>\n",
       "      <td>1.2480</td>\n",
       "      <td>73.60</td>\n",
       "      <td>-0.2233</td>\n",
       "      <td>0.0720</td>\n",
       "      <td>0.2953</td>\n",
       "      <td>780.3553</td>\n",
       "      <td>0.140458</td>\n",
       "      <td>-380.753918</td>\n",
       "      <td>-380.748619</td>\n",
       "      <td>-380.747675</td>\n",
       "      <td>-380.783148</td>\n",
       "      <td>23.972</td>\n",
       "      <td>C1N2C3C4C5C2C13CN45</td>\n",
       "      <td>C1N2[C@@H]3[C@@H]4[C@@H]5[C@H]2[C@]13CN45</td>\n",
       "    </tr>\n",
       "    <tr>\n",
       "      <th>133883</th>\n",
       "      <td>133884</td>\n",
       "      <td>gdb</td>\n",
       "      <td>3.52845</td>\n",
       "      <td>2.151310</td>\n",
       "      <td>1.865820</td>\n",
       "      <td>1.9576</td>\n",
       "      <td>77.40</td>\n",
       "      <td>-0.2122</td>\n",
       "      <td>0.0881</td>\n",
       "      <td>0.3003</td>\n",
       "      <td>803.1904</td>\n",
       "      <td>0.152222</td>\n",
       "      <td>-364.720374</td>\n",
       "      <td>-364.714974</td>\n",
       "      <td>-364.714030</td>\n",
       "      <td>-364.749650</td>\n",
       "      <td>24.796</td>\n",
       "      <td>C1N2C3C4C5CC13C2C45</td>\n",
       "      <td>C1N2[C@H]3[C@@H]4[C@@H]5C[C@]13[C@H]2[C@H]45</td>\n",
       "    </tr>\n",
       "    <tr>\n",
       "      <th>133884</th>\n",
       "      <td>133885</td>\n",
       "      <td>gdb</td>\n",
       "      <td>3.64015</td>\n",
       "      <td>2.217640</td>\n",
       "      <td>1.937930</td>\n",
       "      <td>0.8626</td>\n",
       "      <td>69.48</td>\n",
       "      <td>-0.2316</td>\n",
       "      <td>0.0742</td>\n",
       "      <td>0.3058</td>\n",
       "      <td>756.3557</td>\n",
       "      <td>0.127862</td>\n",
       "      <td>-400.633052</td>\n",
       "      <td>-400.627892</td>\n",
       "      <td>-400.626948</td>\n",
       "      <td>-400.662186</td>\n",
       "      <td>23.434</td>\n",
       "      <td>C1N2C3C4C5OC13C2C45</td>\n",
       "      <td>C1N2[C@H]3[C@@H]4[C@@H]5O[C@]13[C@H]2[C@H]45</td>\n",
       "    </tr>\n",
       "  </tbody>\n",
       "</table>\n",
       "<p>133885 rows × 19 columns</p>\n",
       "</div>"
      ],
      "text/plain": [
       "         index  tag          A           B           C      mu  alpha    homo  \\\n",
       "0            1  gdb  157.71180  157.709970  157.706990  0.0000  13.21 -0.3877   \n",
       "1            2  gdb  293.60975  293.541110  191.393970  1.6256   9.46 -0.2570   \n",
       "2            3  gdb  799.58812  437.903860  282.945450  1.8511   6.31 -0.2928   \n",
       "3            4  gdb    0.00000   35.610036   35.610036  0.0000  16.28 -0.2845   \n",
       "4            5  gdb    0.00000   44.593883   44.593883  2.8937  12.99 -0.3604   \n",
       "...        ...  ...        ...         ...         ...     ...    ...     ...   \n",
       "133880  133881  gdb    3.59483    2.198990    1.904230  1.6637  69.37 -0.2254   \n",
       "133881  133882  gdb    3.65648    2.142370    1.904390  1.2976  69.52 -0.2393   \n",
       "133882  133883  gdb    3.67118    2.143140    1.895010  1.2480  73.60 -0.2233   \n",
       "133883  133884  gdb    3.52845    2.151310    1.865820  1.9576  77.40 -0.2122   \n",
       "133884  133885  gdb    3.64015    2.217640    1.937930  0.8626  69.48 -0.2316   \n",
       "\n",
       "          lumo     gap        r2      zpve          U0           U  \\\n",
       "0       0.1171  0.5048   35.3641  0.044749  -40.478930  -40.476062   \n",
       "1       0.0829  0.3399   26.1563  0.034358  -56.525887  -56.523026   \n",
       "2       0.0687  0.3615   19.0002  0.021375  -76.404702  -76.401867   \n",
       "3       0.0506  0.3351   59.5248  0.026841  -77.308427  -77.305527   \n",
       "4       0.0191  0.3796   48.7476  0.016601  -93.411888  -93.409370   \n",
       "...        ...     ...       ...       ...         ...         ...   \n",
       "133880  0.0588  0.2842  760.7472  0.127406 -400.633868 -400.628599   \n",
       "133881  0.0608  0.3002  762.6354  0.127495 -400.629713 -400.624444   \n",
       "133882  0.0720  0.2953  780.3553  0.140458 -380.753918 -380.748619   \n",
       "133883  0.0881  0.3003  803.1904  0.152222 -364.720374 -364.714974   \n",
       "133884  0.0742  0.3058  756.3557  0.127862 -400.633052 -400.627892   \n",
       "\n",
       "                 H           G      Cv          SMILES_GDB9  \\\n",
       "0       -40.475117  -40.498597   6.469                    C   \n",
       "1       -56.522082  -56.544961   6.316                    N   \n",
       "2       -76.400922  -76.422349   6.002                    O   \n",
       "3       -77.304583  -77.327429   8.574                  C#C   \n",
       "4       -93.408425  -93.431246   6.278                  C#N   \n",
       "...            ...         ...     ...                  ...   \n",
       "133880 -400.627654 -400.663098  23.658  C1C2C3C4C5OC14C5N23   \n",
       "133881 -400.623500 -400.658942  23.697  C1N2C3C2C2C4OC12C34   \n",
       "133882 -380.747675 -380.783148  23.972  C1N2C3C4C5C2C13CN45   \n",
       "133883 -364.714030 -364.749650  24.796  C1N2C3C4C5CC13C2C45   \n",
       "133884 -400.626948 -400.662186  23.434  C1N2C3C4C5OC13C2C45   \n",
       "\n",
       "                                        SMILES_relaxed  \n",
       "0                                                    C  \n",
       "1                                                    N  \n",
       "2                                                    O  \n",
       "3                                                  C#C  \n",
       "4                                                  C#N  \n",
       "...                                                ...  \n",
       "133880  C1[C@@H]2[C@@H]3[C@H]4[C@@H]5O[C@]14[C@@H]5N23  \n",
       "133881  C1N2[C@H]3[C@@H]2[C@@H]2[C@H]4O[C@@]12[C@@H]34  \n",
       "133882       C1N2[C@@H]3[C@@H]4[C@@H]5[C@H]2[C@]13CN45  \n",
       "133883    C1N2[C@H]3[C@@H]4[C@@H]5C[C@]13[C@H]2[C@H]45  \n",
       "133884    C1N2[C@H]3[C@@H]4[C@@H]5O[C@]13[C@H]2[C@H]45  \n",
       "\n",
       "[133885 rows x 19 columns]"
      ]
     },
     "execution_count": 4,
     "metadata": {},
     "output_type": "execute_result"
    }
   ],
   "source": [
    "df"
   ]
  },
  {
   "cell_type": "code",
   "execution_count": 5,
   "id": "f3c92fee",
   "metadata": {},
   "outputs": [
    {
     "data": {
      "text/plain": [
       "Index(['index', 'tag', 'A', 'B', 'C', 'mu', 'alpha', 'homo', 'lumo', 'gap',\n",
       "       'r2', 'zpve', 'U0', 'U', 'H', 'G', 'Cv', 'SMILES_GDB9',\n",
       "       'SMILES_relaxed'],\n",
       "      dtype='object')"
      ]
     },
     "execution_count": 5,
     "metadata": {},
     "output_type": "execute_result"
    }
   ],
   "source": [
    "df.columns"
   ]
  },
  {
   "cell_type": "markdown",
   "id": "727e3770",
   "metadata": {},
   "source": [
    "## Define features"
   ]
  },
  {
   "cell_type": "markdown",
   "id": "b8d7a131",
   "metadata": {},
   "source": [
    "These classes are meant to define the types of atom and bond that are present in a molecule.\n",
    "https://keras.io/examples/graph/mpnn-molecular-graphs/"
   ]
  },
  {
   "cell_type": "code",
   "execution_count": 6,
   "id": "4f4b34e8",
   "metadata": {},
   "outputs": [],
   "source": [
    "class Featurizer:\n",
    "    def __init__(self, allowable_sets):\n",
    "        self.dim = 0\n",
    "        self.features_mapping = {}\n",
    "        for k, s in allowable_sets.items():\n",
    "            s = sorted(list(s))\n",
    "            self.features_mapping[k] = dict(zip(s, range(self.dim, len(s) + self.dim)))\n",
    "            self.dim += len(s)\n",
    "\n",
    "    def encode(self, inputs):\n",
    "        output = np.zeros((self.dim,))\n",
    "        for name_feature, feature_mapping in self.features_mapping.items():\n",
    "            feature = getattr(self, name_feature)(inputs)\n",
    "            if feature not in feature_mapping:\n",
    "                continue\n",
    "            output[feature_mapping[feature]] = 1.0\n",
    "        return output\n",
    "\n",
    "\n",
    "class AtomFeaturizer(Featurizer):\n",
    "    def __init__(self, allowable_sets):\n",
    "        super().__init__(allowable_sets)\n",
    "\n",
    "    def symbol(self, atom):\n",
    "        return atom.GetSymbol()\n",
    "\n",
    "    def n_valence(self, atom):\n",
    "        return atom.GetTotalValence()\n",
    "\n",
    "    def n_hydrogens(self, atom):\n",
    "        return atom.GetTotalNumHs()\n",
    "\n",
    "    def hybridization(self, atom):\n",
    "        return atom.GetHybridization().name.lower()\n",
    "\n",
    "\n",
    "class BondFeaturizer(Featurizer):\n",
    "    def __init__(self, allowable_sets):\n",
    "        super().__init__(allowable_sets)\n",
    "        self.dim += 1\n",
    "\n",
    "    def encode(self, bond):\n",
    "        output = np.zeros((self.dim,))\n",
    "        if bond is None:\n",
    "            output[-1] = 1.0\n",
    "            return output\n",
    "        output = super().encode(bond)\n",
    "        return output\n",
    "\n",
    "    def bond_type(self, bond):\n",
    "        return bond.GetBondType().name.lower()\n",
    "\n",
    "    def conjugated(self, bond):\n",
    "        return bond.GetIsConjugated()\n",
    "\n",
    "\n",
    "atom_featurizer = AtomFeaturizer(\n",
    "    allowable_sets={\n",
    "        \"symbol\": {\"B\", \"Br\", \"C\", \"Ca\", \"Cl\", \"F\", \"H\", \"I\", \"N\", \"Na\", \"O\", \"P\", \"S\"},\n",
    "        \"n_valence\": {0, 1, 2, 3, 4, 5, 6},\n",
    "        \"n_hydrogens\": {0, 1, 2, 3, 4},\n",
    "        \"hybridization\": {\"s\", \"sp\", \"sp2\", \"sp3\"},})\n",
    "\n",
    "bond_featurizer = BondFeaturizer(\n",
    "    allowable_sets={\n",
    "        \"bond_type\": {\"single\", \"double\", \"triple\", \"aromatic\"},\n",
    "        \"conjugated\": {True, False},})"
   ]
  },
  {
   "cell_type": "markdown",
   "id": "12185e05",
   "metadata": {},
   "source": [
    "## Define graphs"
   ]
  },
  {
   "cell_type": "markdown",
   "id": "47c5a9bb",
   "metadata": {},
   "source": [
    "Here, these functions are used to convert smiles to molecules and molecules to graph.\n",
    "https://keras.io/examples/graph/mpnn-molecular-graphs/"
   ]
  },
  {
   "cell_type": "code",
   "execution_count": 7,
   "id": "a59a5bfe",
   "metadata": {},
   "outputs": [],
   "source": [
    "def molecule_from_smiles(smiles):\n",
    "    # MolFromSmiles(m, sanitize=True) should be equivalent to\n",
    "    # MolFromSmiles(m, sanitize=False) -> SanitizeMol(m) -> AssignStereochemistry(m, ...)\n",
    "    molecule = Chem.MolFromSmiles(smiles, sanitize=False)\n",
    "\n",
    "    # If sanitization is unsuccessful, catch the error, and try again without\n",
    "    # the sanitization step that caused the error\n",
    "    flag = Chem.SanitizeMol(molecule, catchErrors=True)\n",
    "    if flag != Chem.SanitizeFlags.SANITIZE_NONE:\n",
    "        Chem.SanitizeMol(molecule, sanitizeOps=Chem.SanitizeFlags.SANITIZE_ALL ^ flag)\n",
    "\n",
    "    Chem.AssignStereochemistry(molecule, cleanIt=True, force=True)\n",
    "    return molecule\n",
    "\n",
    "\n",
    "def graph_from_molecule(molecule):\n",
    "    # Initialize graph\n",
    "    atom_features = []\n",
    "    bond_features = []\n",
    "    pair_indices = []\n",
    "\n",
    "    for atom in molecule.GetAtoms():\n",
    "        atom_features.append(atom_featurizer.encode(atom))\n",
    "\n",
    "        # Add self-loops\n",
    "        pair_indices.append([atom.GetIdx(), atom.GetIdx()])\n",
    "        bond_features.append(bond_featurizer.encode(None))\n",
    "\n",
    "        for neighbor in atom.GetNeighbors():\n",
    "            bond = molecule.GetBondBetweenAtoms(atom.GetIdx(), neighbor.GetIdx())\n",
    "            pair_indices.append([atom.GetIdx(), neighbor.GetIdx()])\n",
    "            bond_features.append(bond_featurizer.encode(bond))\n",
    "\n",
    "    return np.array(atom_features), np.array(bond_features), np.array(pair_indices)\n",
    "\n",
    "\n",
    "def graphs_from_smiles(smiles_list):\n",
    "    # Initialize graphs\n",
    "    atom_features_list = []\n",
    "    bond_features_list = []\n",
    "    pair_indices_list = []\n",
    "\n",
    "    for smiles in smiles_list:\n",
    "        molecule = molecule_from_smiles(smiles)\n",
    "        atom_features, bond_features, pair_indices = graph_from_molecule(molecule)\n",
    "\n",
    "        atom_features_list.append(atom_features)\n",
    "        bond_features_list.append(bond_features)\n",
    "        pair_indices_list.append(pair_indices)\n",
    "\n",
    "    # Convert lists to ragged tensors for tf.data.Dataset later on\n",
    "    return (\n",
    "        tf.ragged.constant(atom_features_list, dtype=tf.float32),\n",
    "        tf.ragged.constant(bond_features_list, dtype=tf.float32),\n",
    "        tf.ragged.constant(pair_indices_list, dtype=tf.int64),)\n"
   ]
  },
  {
   "cell_type": "markdown",
   "id": "0c576ee8",
   "metadata": {},
   "source": [
    "Next, locate molecules that can't be converted from smile."
   ]
  },
  {
   "cell_type": "code",
   "execution_count": 8,
   "id": "cf15de9c",
   "metadata": {},
   "outputs": [],
   "source": [
    "bad_mol = []\n",
    "for i in df.SMILES_relaxed:\n",
    "    try:\n",
    "        molecule_from_smiles(i)\n",
    "    except:\n",
    "        bad_mol.append(i)"
   ]
  },
  {
   "cell_type": "code",
   "execution_count": 9,
   "id": "8972dc29",
   "metadata": {},
   "outputs": [],
   "source": [
    "df = df[~df['SMILES_relaxed'].isin(bad_mol)]"
   ]
  },
  {
   "cell_type": "markdown",
   "id": "05d1318a",
   "metadata": {},
   "source": [
    "Define X and y, and split data"
   ]
  },
  {
   "cell_type": "code",
   "execution_count": 10,
   "id": "b15da3b8",
   "metadata": {},
   "outputs": [],
   "source": [
    "X = df['SMILES_relaxed']\n",
    "y = df.drop(columns=['index','tag','A','B','C','SMILES_GDB9','SMILES_relaxed'])"
   ]
  },
  {
   "cell_type": "code",
   "execution_count": 11,
   "id": "50a4ff12",
   "metadata": {},
   "outputs": [],
   "source": [
    "X_nontest, X_test, y_nontest, y_test = train_test_split(X, y, test_size=0.20, random_state=42)"
   ]
  },
  {
   "cell_type": "code",
   "execution_count": 12,
   "id": "78a32da1",
   "metadata": {},
   "outputs": [],
   "source": [
    "X_train, X_val, y_train, y_val = train_test_split(X_nontest, y_nontest, test_size=0.20, random_state=42)"
   ]
  },
  {
   "cell_type": "code",
   "execution_count": 13,
   "id": "2ade4a53",
   "metadata": {},
   "outputs": [
    {
     "data": {
      "text/plain": [
       "((85660,), (85660, 12))"
      ]
     },
     "execution_count": 13,
     "metadata": {},
     "output_type": "execute_result"
    }
   ],
   "source": [
    "X_train.shape, y_train.shape"
   ]
  },
  {
   "cell_type": "code",
   "execution_count": 14,
   "id": "0322dbaf",
   "metadata": {},
   "outputs": [
    {
     "data": {
      "text/plain": [
       "((21416,), (21416, 12))"
      ]
     },
     "execution_count": 14,
     "metadata": {},
     "output_type": "execute_result"
    }
   ],
   "source": [
    "X_val.shape, y_val.shape"
   ]
  },
  {
   "cell_type": "code",
   "execution_count": 15,
   "id": "b18e8d21",
   "metadata": {},
   "outputs": [
    {
     "data": {
      "text/plain": [
       "((26769,), (26769, 12))"
      ]
     },
     "execution_count": 15,
     "metadata": {},
     "output_type": "execute_result"
    }
   ],
   "source": [
    "X_test.shape, y_test.shape"
   ]
  },
  {
   "cell_type": "markdown",
   "id": "578cdaaa",
   "metadata": {},
   "source": [
    "Take a glance at a molecule."
   ]
  },
  {
   "cell_type": "code",
   "execution_count": 16,
   "id": "bf77639e",
   "metadata": {},
   "outputs": [
    {
     "data": {
      "image/png": "[encoded data removed]",
      "text/plain": [
       "<rdkit.Chem.rdchem.Mol at 0x1757d1880>"
      ]
     },
     "execution_count": 16,
     "metadata": {},
     "output_type": "execute_result"
    }
   ],
   "source": [
    "molecule = molecule_from_smiles(df.iloc[50].SMILES_relaxed)\n",
    "molecule"
   ]
  },
  {
   "cell_type": "code",
   "execution_count": 17,
   "id": "dbed2fbc",
   "metadata": {},
   "outputs": [
    {
     "name": "stdout",
     "output_type": "stream",
     "text": [
      "Graph (including self-loops):\n",
      "\tatom features\t (5, 29)\n",
      "\tbond features\t (15, 7)\n",
      "\tpair indices\t (15, 2)\n"
     ]
    }
   ],
   "source": [
    "graph = graph_from_molecule(molecule)\n",
    "print(\"Graph (including self-loops):\")\n",
    "print(\"\\tatom features\\t\", graph[0].shape)\n",
    "print(\"\\tbond features\\t\", graph[1].shape)\n",
    "print(\"\\tpair indices\\t\", graph[2].shape)"
   ]
  },
  {
   "cell_type": "markdown",
   "id": "cd0034eb",
   "metadata": {},
   "source": [
    "Scale y values to improve stability and performance, check distributions"
   ]
  },
  {
   "cell_type": "code",
   "execution_count": 18,
   "id": "a9b7cb51",
   "metadata": {},
   "outputs": [],
   "source": [
    "scaler = StandardScaler()\n",
    "scaler.fit(y_train)\n",
    "y_train = pd.DataFrame(scaler.transform(y_train), columns=y_train.columns)\n",
    "y_val = pd.DataFrame(scaler.transform(y_val), columns=y_val.columns)"
   ]
  },
  {
   "cell_type": "code",
   "execution_count": 19,
   "id": "12750660",
   "metadata": {},
   "outputs": [
    {
     "data": {
      "image/png": "[encoded data removed]",
      "text/plain": [
       "<Figure size 864x576 with 12 Axes>"
      ]
     },
     "metadata": {
      "needs_background": "light"
     },
     "output_type": "display_data"
    }
   ],
   "source": [
    "fig, axs = plt.subplots(3, 4, figsize=(12, 8))\n",
    "\n",
    "sns.histplot(data=y_train, x=\"mu\", kde=True, color=\"b\", ax=axs[0, 0])\n",
    "sns.histplot(data=y_train, x=\"alpha\", kde=True, color=\"g\", ax=axs[0, 1])\n",
    "sns.histplot(data=y_train, x=\"homo\", kde=True, color=\"r\", ax=axs[0, 2])\n",
    "sns.histplot(data=y_train, x=\"lumo\", kde=True, color=\"c\", ax=axs[0, 3])\n",
    "\n",
    "sns.histplot(data=y_train, x=\"gap\", kde=True, color=\"m\", ax=axs[1, 0])\n",
    "sns.histplot(data=y_train, x=\"r2\", kde=True, color=\"y\", ax=axs[1, 1])\n",
    "sns.histplot(data=y_train, x=\"zpve\", kde=True, color=\"k\", ax=axs[1, 2])\n",
    "sns.histplot(data=y_train, x=\"Cv\", kde=True, color=\"w\", ax=axs[1, 3])\n",
    "\n",
    "sns.histplot(data=y_train, x=\"U0\", kde=True, color=\"skyblue\", ax=axs[2, 0])\n",
    "sns.histplot(data=y_train, x=\"U\", kde=True, color=\"olive\", ax=axs[2, 1])\n",
    "sns.histplot(data=y_train, x=\"H\", kde=True, color=\"gold\", ax=axs[2, 2])\n",
    "sns.histplot(data=y_train, x=\"G\", kde=True, color=\"teal\", ax=axs[2, 3])\n",
    "\n",
    "plt.tight_layout()"
   ]
  },
  {
   "cell_type": "markdown",
   "id": "cfa87270",
   "metadata": {},
   "source": [
    "Create graphs from smiles"
   ]
  },
  {
   "cell_type": "code",
   "execution_count": 20,
   "id": "37a4b64d",
   "metadata": {},
   "outputs": [
    {
     "name": "stderr",
     "output_type": "stream",
     "text": [
      "2022-02-22 23:49:22.202632: I tensorflow/core/platform/cpu_feature_guard.cc:151] This TensorFlow binary is optimized with oneAPI Deep Neural Network Library (oneDNN) to use the following CPU instructions in performance-critical operations:  AVX2 FMA\n",
      "To enable them in other operations, rebuild TensorFlow with the appropriate compiler flags.\n"
     ]
    }
   ],
   "source": [
    "X_train_graph = graphs_from_smiles(X_train)\n",
    "X_val_graph = graphs_from_smiles(X_val)\n",
    "X_test_graph = graphs_from_smiles(X_test)"
   ]
  },
  {
   "cell_type": "markdown",
   "id": "1f8cb532",
   "metadata": {},
   "source": [
    "## Merge graphs"
   ]
  },
  {
   "cell_type": "markdown",
   "id": "54167c0c",
   "metadata": {},
   "source": [
    "Make global graph where it is a disconnected graph. The subgraph is completely separated from the other subgraphs.\n",
    "https://keras.io/examples/graph/mpnn-molecular-graphs/"
   ]
  },
  {
   "cell_type": "code",
   "execution_count": 21,
   "id": "dc9309d7",
   "metadata": {},
   "outputs": [],
   "source": [
    "def prepare_batch(x_batch, y_batch):\n",
    "    \"\"\"Merges (sub)graphs of batch into a single global (disconnected) graph\n",
    "    \"\"\"\n",
    "\n",
    "    atom_features, bond_features, pair_indices = x_batch\n",
    "\n",
    "    # Obtain number of atoms and bonds for each graph (molecule)\n",
    "    num_atoms = atom_features.row_lengths()\n",
    "    num_bonds = bond_features.row_lengths()\n",
    "\n",
    "    # Obtain partition indices (molecule_indicator), which will be used to\n",
    "    # gather (sub)graphs from global graph in model later on\n",
    "    molecule_indices = tf.range(len(num_atoms))\n",
    "    molecule_indicator = tf.repeat(molecule_indices, num_atoms)\n",
    "\n",
    "    # Merge (sub)graphs into a global (disconnected) graph. Adding 'increment' to\n",
    "    # 'pair_indices' (and merging ragged tensors) actualizes the global graph\n",
    "    gather_indices = tf.repeat(molecule_indices[:-1], num_bonds[1:])\n",
    "    increment = tf.cumsum(num_atoms[:-1])\n",
    "    increment = tf.pad(tf.gather(increment, gather_indices), [(num_bonds[0], 0)])\n",
    "    pair_indices = pair_indices.merge_dims(outer_axis=0, inner_axis=1).to_tensor()\n",
    "    pair_indices = pair_indices + increment[:, tf.newaxis]\n",
    "    atom_features = atom_features.merge_dims(outer_axis=0, inner_axis=1).to_tensor()\n",
    "    bond_features = bond_features.merge_dims(outer_axis=0, inner_axis=1).to_tensor()\n",
    "\n",
    "    return (atom_features, bond_features, pair_indices, molecule_indicator), y_batch\n",
    "\n",
    "\n",
    "def MPNNDataset(X, y, batch_size=32, shuffle=False):\n",
    "    dataset = tf.data.Dataset.from_tensor_slices((X, (y)))\n",
    "    if shuffle:\n",
    "        dataset = dataset.shuffle(1024)\n",
    "    return dataset.batch(batch_size).map(prepare_batch, -1).prefetch(-1)"
   ]
  },
  {
   "cell_type": "code",
   "execution_count": 22,
   "id": "c7c2cdce",
   "metadata": {},
   "outputs": [],
   "source": [
    "train_dataset = MPNNDataset(X_train_graph, y_train)\n",
    "valid_dataset = MPNNDataset(X_val_graph, y_val)\n",
    "test_dataset = MPNNDataset(X_test_graph, y_test)"
   ]
  },
  {
   "cell_type": "markdown",
   "id": "e01b59c0",
   "metadata": {},
   "source": [
    "## Define MPNN"
   ]
  },
  {
   "cell_type": "code",
   "execution_count": 23,
   "id": "20991e64",
   "metadata": {},
   "outputs": [],
   "source": [
    "class EdgeNetwork(layers.Layer):\n",
    "    def build(self, input_shape):\n",
    "        self.atom_dim = input_shape[0][-1]\n",
    "        self.bond_dim = input_shape[1][-1]\n",
    "        self.kernel = self.add_weight(\n",
    "            shape=(self.bond_dim, self.atom_dim * self.atom_dim),\n",
    "            initializer=\"glorot_uniform\",\n",
    "            name=\"kernel\",)\n",
    "        \n",
    "        self.bias = self.add_weight(\n",
    "            shape=(self.atom_dim * self.atom_dim), initializer=\"zeros\", name=\"bias\",)\n",
    "        self.built = True\n",
    "\n",
    "    def call(self, inputs):\n",
    "        atom_features, bond_features, pair_indices = inputs\n",
    "\n",
    "        # Apply linear transformation to bond features\n",
    "        bond_features = tf.matmul(bond_features, self.kernel) + self.bias\n",
    "\n",
    "        # Reshape for neighborhood aggregation later\n",
    "        bond_features = tf.reshape(bond_features, (-1, self.atom_dim, self.atom_dim))\n",
    "\n",
    "        # Obtain atom features of neighbors\n",
    "        atom_features_neighbors = tf.gather(atom_features, pair_indices[:, 1])\n",
    "        atom_features_neighbors = tf.expand_dims(atom_features_neighbors, axis=-1)\n",
    "\n",
    "        # Apply neighborhood aggregation\n",
    "        transformed_features = tf.matmul(bond_features, atom_features_neighbors)\n",
    "        transformed_features = tf.squeeze(transformed_features, axis=-1)\n",
    "        aggregated_features = tf.math.unsorted_segment_sum(\n",
    "            transformed_features,\n",
    "            pair_indices[:, 0],\n",
    "            num_segments=tf.shape(atom_features)[0],)\n",
    "        return aggregated_features\n",
    "\n",
    "\n",
    "class MessagePassing(layers.Layer):\n",
    "    def __init__(self, units, steps=4, **kwargs):\n",
    "        super().__init__(**kwargs)\n",
    "        self.units = units\n",
    "        self.steps = steps\n",
    "\n",
    "    def build(self, input_shape):\n",
    "        self.atom_dim = input_shape[0][-1]\n",
    "        self.message_step = EdgeNetwork()\n",
    "        self.pad_length = max(0, self.units - self.atom_dim)\n",
    "        self.update_step = layers.GRUCell(self.atom_dim + self.pad_length)\n",
    "        self.built = True\n",
    "\n",
    "    def call(self, inputs):\n",
    "        atom_features, bond_features, pair_indices = inputs\n",
    "\n",
    "        # Pad atom features if number of desired units exceeds atom_features dim.\n",
    "        # Alternatively, a dense layer could be used here.\n",
    "        atom_features_updated = tf.pad(atom_features, [(0, 0), (0, self.pad_length)])\n",
    "\n",
    "        # Perform a number of steps of message passing\n",
    "        for i in range(self.steps):\n",
    "            # Aggregate information from neighbors\n",
    "            atom_features_aggregated = self.message_step(\n",
    "                [atom_features_updated, bond_features, pair_indices])\n",
    "\n",
    "            # Update node state via a step of GRU\n",
    "            atom_features_updated, _ = self.update_step(\n",
    "                atom_features_aggregated, atom_features_updated)\n",
    "        return atom_features_updated"
   ]
  },
  {
   "cell_type": "code",
   "execution_count": 24,
   "id": "6b4a65f8",
   "metadata": {},
   "outputs": [],
   "source": [
    "class PartitionPadding(layers.Layer):\n",
    "    def __init__(self, batch_size, **kwargs):\n",
    "        super().__init__(**kwargs)\n",
    "        self.batch_size = batch_size\n",
    "\n",
    "    def call(self, inputs):\n",
    "\n",
    "        atom_features, molecule_indicator = inputs\n",
    "\n",
    "        # Obtain subgraphs\n",
    "        atom_features_partitioned = tf.dynamic_partition(\n",
    "            atom_features, molecule_indicator, self.batch_size\n",
    "        )\n",
    "\n",
    "        # Pad and stack subgraphs\n",
    "        num_atoms = [tf.shape(f)[0] for f in atom_features_partitioned]\n",
    "        max_num_atoms = tf.reduce_max(num_atoms)\n",
    "        atom_features_stacked = tf.stack(\n",
    "            [\n",
    "                tf.pad(f, [(0, max_num_atoms - n), (0, 0)])\n",
    "                for f, n in zip(atom_features_partitioned, num_atoms)\n",
    "            ],axis=0,)\n",
    "\n",
    "        # Remove empty subgraphs (usually for last batch in dataset)\n",
    "        gather_indices = tf.where(tf.reduce_sum(atom_features_stacked, (1, 2)) != 0)\n",
    "        gather_indices = tf.squeeze(gather_indices, axis=-1)\n",
    "        return tf.gather(atom_features_stacked, gather_indices, axis=0)\n",
    "\n",
    "\n",
    "class TransformerEncoderReadout(layers.Layer):\n",
    "    def __init__(\n",
    "        self, num_heads=8, embed_dim=64, dense_dim=512, batch_size=32, **kwargs):\n",
    "        super().__init__(**kwargs)\n",
    "\n",
    "        self.partition_padding = PartitionPadding(batch_size)\n",
    "        self.attention = layers.MultiHeadAttention(num_heads, embed_dim)\n",
    "        self.dense_proj = keras.Sequential(\n",
    "            [layers.Dense(dense_dim, activation=\"relu\"), layers.Dense(embed_dim),])\n",
    "        self.layernorm_1 = layers.LayerNormalization()\n",
    "        self.layernorm_2 = layers.LayerNormalization()\n",
    "        self.average_pooling = layers.GlobalAveragePooling1D()\n",
    "\n",
    "    def call(self, inputs):\n",
    "        x = self.partition_padding(inputs)\n",
    "        padding_mask = tf.reduce_any(tf.not_equal(x, 0.0), axis=-1)\n",
    "        padding_mask = padding_mask[:, tf.newaxis, tf.newaxis, :]\n",
    "        attention_output = self.attention(x, x, attention_mask=padding_mask)\n",
    "        proj_input = self.layernorm_1(x + attention_output)\n",
    "        proj_output = self.layernorm_2(proj_input + self.dense_proj(proj_input))\n",
    "        return self.average_pooling(proj_output)"
   ]
  },
  {
   "cell_type": "code",
   "execution_count": 25,
   "id": "1e422131",
   "metadata": {},
   "outputs": [],
   "source": [
    "def MPNNModel(atom_dim,bond_dim,batch_size=32,message_units=64,message_steps=4,num_attention_heads=8,dense_units=256,):\n",
    "\n",
    "    atom_features = layers.Input((atom_dim), dtype=\"float32\", name=\"atom_features\")\n",
    "    bond_features = layers.Input((bond_dim), dtype=\"float32\", name=\"bond_features\")\n",
    "    pair_indices = layers.Input((2), dtype=\"int32\", name=\"pair_indices\")\n",
    "    molecule_indicator = layers.Input((), dtype=\"int32\", name=\"molecule_indicator\")\n",
    "\n",
    "    x = MessagePassing(message_units, message_steps)(\n",
    "        [atom_features, bond_features, pair_indices])\n",
    "\n",
    "    x = TransformerEncoderReadout(\n",
    "        num_attention_heads, message_units, dense_units, batch_size)([x, molecule_indicator])\n",
    "\n",
    "    x = layers.Dense(dense_units, activation=\"relu\")(x)\n",
    "    x = layers.Dense(12)(x)\n",
    "\n",
    "    model = keras.Model(\n",
    "        inputs=[atom_features, bond_features, pair_indices, molecule_indicator],\n",
    "        outputs=[x],)\n",
    "    return model"
   ]
  },
  {
   "cell_type": "markdown",
   "id": "0d0fe16b",
   "metadata": {},
   "source": [
    "## Compile model and start training"
   ]
  },
  {
   "cell_type": "code",
   "execution_count": 26,
   "id": "e7326929",
   "metadata": {},
   "outputs": [
    {
     "name": "stdout",
     "output_type": "stream",
     "text": [
      "You must install pydot (`pip install pydot`) and install graphviz (see instructions at https://graphviz.gitlab.io/download/) for plot_model/model_to_dot to work.\n"
     ]
    }
   ],
   "source": [
    "mpnn = MPNNModel(atom_dim=X_train_graph[0][0][0].shape[0], bond_dim=X_train_graph[1][0][0].shape[0],)\n",
    "\n",
    "mpnn.compile(\n",
    "    loss='mse',\n",
    "    optimizer=keras.optimizers.Adam(learning_rate=5e-4),\n",
    "    metrics=[tf.keras.metrics.MeanSquaredError()],)\n",
    "\n",
    "keras.utils.plot_model(mpnn, show_dtype=True, show_shapes=True)"
   ]
  },
  {
   "cell_type": "code",
   "execution_count": 27,
   "id": "b4cbb619",
   "metadata": {},
   "outputs": [
    {
     "name": "stdout",
     "output_type": "stream",
     "text": [
      "Model: \"model\"\n",
      "__________________________________________________________________________________________________\n",
      " Layer (type)                   Output Shape         Param #     Connected to                     \n",
      "==================================================================================================\n",
      " atom_features (InputLayer)     [(None, 29)]         0           []                               \n",
      "                                                                                                  \n",
      " bond_features (InputLayer)     [(None, 7)]          0           []                               \n",
      "                                                                                                  \n",
      " pair_indices (InputLayer)      [(None, 2)]          0           []                               \n",
      "                                                                                                  \n",
      " message_passing (MessagePassin  (None, 64)          57728       ['atom_features[0][0]',          \n",
      " g)                                                               'bond_features[0][0]',          \n",
      "                                                                  'pair_indices[0][0]']           \n",
      "                                                                                                  \n",
      " molecule_indicator (InputLayer  [(None,)]           0           []                               \n",
      " )                                                                                                \n",
      "                                                                                                  \n",
      " transformer_encoder_readout (T  (None, 64)          166016      ['message_passing[0][0]',        \n",
      " ransformerEncoderReadout)                                        'molecule_indicator[0][0]']     \n",
      "                                                                                                  \n",
      " dense_2 (Dense)                (None, 256)          16640       ['transformer_encoder_readout[0][\n",
      "                                                                 0]']                             \n",
      "                                                                                                  \n",
      " dense_3 (Dense)                (None, 12)           3084        ['dense_2[0][0]']                \n",
      "                                                                                                  \n",
      "==================================================================================================\n",
      "Total params: 243,468\n",
      "Trainable params: 243,468\n",
      "Non-trainable params: 0\n",
      "__________________________________________________________________________________________________\n"
     ]
    }
   ],
   "source": [
    "mpnn.summary()"
   ]
  },
  {
   "cell_type": "code",
   "execution_count": 28,
   "id": "92675781",
   "metadata": {},
   "outputs": [
    {
     "name": "stdout",
     "output_type": "stream",
     "text": [
      "Epoch 1/50\n",
      "2677/2677 - 344s - loss: 0.1197 - mean_squared_error: 0.1197 - val_loss: 0.0855 - val_mean_squared_error: 0.0855 - 344s/epoch - 129ms/step\n",
      "Epoch 2/50\n",
      "2677/2677 - 323s - loss: 0.0706 - mean_squared_error: 0.0706 - val_loss: 0.0678 - val_mean_squared_error: 0.0678 - 323s/epoch - 121ms/step\n",
      "Epoch 3/50\n",
      "2677/2677 - 322s - loss: 0.0593 - mean_squared_error: 0.0593 - val_loss: 0.0644 - val_mean_squared_error: 0.0644 - 322s/epoch - 120ms/step\n",
      "Epoch 4/50\n",
      "2677/2677 - 330s - loss: 0.0522 - mean_squared_error: 0.0522 - val_loss: 0.0534 - val_mean_squared_error: 0.0534 - 330s/epoch - 123ms/step\n",
      "Epoch 5/50\n",
      "2677/2677 - 334s - loss: 0.0476 - mean_squared_error: 0.0476 - val_loss: 0.0490 - val_mean_squared_error: 0.0490 - 334s/epoch - 125ms/step\n",
      "Epoch 6/50\n",
      "2677/2677 - 328s - loss: 0.0441 - mean_squared_error: 0.0441 - val_loss: 0.0455 - val_mean_squared_error: 0.0455 - 328s/epoch - 122ms/step\n",
      "Epoch 7/50\n",
      "2677/2677 - 330s - loss: 0.0413 - mean_squared_error: 0.0413 - val_loss: 0.0430 - val_mean_squared_error: 0.0430 - 330s/epoch - 123ms/step\n",
      "Epoch 8/50\n",
      "2677/2677 - 328s - loss: 0.0391 - mean_squared_error: 0.0391 - val_loss: 0.0413 - val_mean_squared_error: 0.0413 - 328s/epoch - 123ms/step\n",
      "Epoch 9/50\n",
      "2677/2677 - 339s - loss: 0.0372 - mean_squared_error: 0.0372 - val_loss: 0.0397 - val_mean_squared_error: 0.0397 - 339s/epoch - 126ms/step\n",
      "Epoch 10/50\n",
      "2677/2677 - 332s - loss: 0.0357 - mean_squared_error: 0.0357 - val_loss: 0.0385 - val_mean_squared_error: 0.0385 - 332s/epoch - 124ms/step\n",
      "Epoch 11/50\n",
      "2677/2677 - 332s - loss: 0.0343 - mean_squared_error: 0.0343 - val_loss: 0.0369 - val_mean_squared_error: 0.0369 - 332s/epoch - 124ms/step\n",
      "Epoch 12/50\n",
      "2677/2677 - 327s - loss: 0.0332 - mean_squared_error: 0.0332 - val_loss: 0.0364 - val_mean_squared_error: 0.0364 - 327s/epoch - 122ms/step\n",
      "Epoch 13/50\n",
      "2677/2677 - 329s - loss: 0.0322 - mean_squared_error: 0.0322 - val_loss: 0.0358 - val_mean_squared_error: 0.0358 - 329s/epoch - 123ms/step\n",
      "Epoch 14/50\n",
      "2677/2677 - 327s - loss: 0.0313 - mean_squared_error: 0.0313 - val_loss: 0.0353 - val_mean_squared_error: 0.0353 - 327s/epoch - 122ms/step\n",
      "Epoch 15/50\n",
      "2677/2677 - 325s - loss: 0.0305 - mean_squared_error: 0.0305 - val_loss: 0.0350 - val_mean_squared_error: 0.0350 - 325s/epoch - 121ms/step\n",
      "Epoch 16/50\n",
      "2677/2677 - 334s - loss: 0.0297 - mean_squared_error: 0.0297 - val_loss: 0.0346 - val_mean_squared_error: 0.0346 - 334s/epoch - 125ms/step\n",
      "Epoch 17/50\n",
      "2677/2677 - 328s - loss: 0.0293 - mean_squared_error: 0.0293 - val_loss: 0.0350 - val_mean_squared_error: 0.0350 - 328s/epoch - 123ms/step\n",
      "Epoch 18/50\n",
      "2677/2677 - 331s - loss: 0.0286 - mean_squared_error: 0.0286 - val_loss: 0.0342 - val_mean_squared_error: 0.0342 - 331s/epoch - 124ms/step\n",
      "Epoch 19/50\n",
      "2677/2677 - 328s - loss: 0.0278 - mean_squared_error: 0.0278 - val_loss: 0.0343 - val_mean_squared_error: 0.0343 - 328s/epoch - 122ms/step\n",
      "Epoch 20/50\n",
      "2677/2677 - 328s - loss: 0.0274 - mean_squared_error: 0.0274 - val_loss: 0.0334 - val_mean_squared_error: 0.0334 - 328s/epoch - 123ms/step\n",
      "Epoch 21/50\n",
      "2677/2677 - 329s - loss: 0.0331 - mean_squared_error: 0.0331 - val_loss: 0.0324 - val_mean_squared_error: 0.0324 - 329s/epoch - 123ms/step\n",
      "Epoch 22/50\n",
      "2677/2677 - 328s - loss: 0.0261 - mean_squared_error: 0.0261 - val_loss: 0.0321 - val_mean_squared_error: 0.0321 - 328s/epoch - 123ms/step\n",
      "Epoch 23/50\n",
      "2677/2677 - 331s - loss: 0.0261 - mean_squared_error: 0.0261 - val_loss: 0.0320 - val_mean_squared_error: 0.0320 - 331s/epoch - 123ms/step\n",
      "Epoch 24/50\n",
      "2677/2677 - 337s - loss: 0.0302 - mean_squared_error: 0.0302 - val_loss: 0.0319 - val_mean_squared_error: 0.0319 - 337s/epoch - 126ms/step\n",
      "Epoch 25/50\n",
      "2677/2677 - 331s - loss: 0.0274 - mean_squared_error: 0.0274 - val_loss: 0.0313 - val_mean_squared_error: 0.0313 - 331s/epoch - 124ms/step\n",
      "Epoch 26/50\n",
      "2677/2677 - 335s - loss: 0.0250 - mean_squared_error: 0.0250 - val_loss: 0.0314 - val_mean_squared_error: 0.0314 - 335s/epoch - 125ms/step\n",
      "Epoch 27/50\n",
      "2677/2677 - 331s - loss: 0.0250 - mean_squared_error: 0.0250 - val_loss: 0.0316 - val_mean_squared_error: 0.0316 - 331s/epoch - 124ms/step\n",
      "Epoch 28/50\n",
      "2677/2677 - 331s - loss: 0.0248 - mean_squared_error: 0.0248 - val_loss: 0.0317 - val_mean_squared_error: 0.0317 - 331s/epoch - 124ms/step\n",
      "Epoch 29/50\n",
      "2677/2677 - 331s - loss: 0.0244 - mean_squared_error: 0.0244 - val_loss: 0.0324 - val_mean_squared_error: 0.0324 - 331s/epoch - 123ms/step\n",
      "Epoch 30/50\n",
      "2677/2677 - 331s - loss: 0.0241 - mean_squared_error: 0.0241 - val_loss: 0.0318 - val_mean_squared_error: 0.0318 - 331s/epoch - 124ms/step\n",
      "Epoch 31/50\n",
      "2677/2677 - 336s - loss: 0.0236 - mean_squared_error: 0.0236 - val_loss: 0.0318 - val_mean_squared_error: 0.0318 - 336s/epoch - 125ms/step\n",
      "Epoch 32/50\n",
      "2677/2677 - 328s - loss: 0.0231 - mean_squared_error: 0.0231 - val_loss: 0.0319 - val_mean_squared_error: 0.0319 - 328s/epoch - 123ms/step\n",
      "Epoch 33/50\n",
      "2677/2677 - 329s - loss: 0.0229 - mean_squared_error: 0.0229 - val_loss: 0.0318 - val_mean_squared_error: 0.0318 - 329s/epoch - 123ms/step\n",
      "Epoch 34/50\n",
      "2677/2677 - 328s - loss: 0.0229 - mean_squared_error: 0.0229 - val_loss: 0.0318 - val_mean_squared_error: 0.0318 - 328s/epoch - 123ms/step\n",
      "Epoch 35/50\n",
      "2677/2677 - 331s - loss: 0.0224 - mean_squared_error: 0.0224 - val_loss: 0.0322 - val_mean_squared_error: 0.0322 - 331s/epoch - 124ms/step\n",
      "Epoch 36/50\n",
      "2677/2677 - 333s - loss: 0.0220 - mean_squared_error: 0.0220 - val_loss: 0.0324 - val_mean_squared_error: 0.0324 - 333s/epoch - 124ms/step\n",
      "Epoch 37/50\n",
      "2677/2677 - 326s - loss: 0.0227 - mean_squared_error: 0.0227 - val_loss: 0.0317 - val_mean_squared_error: 0.0317 - 326s/epoch - 122ms/step\n",
      "Epoch 38/50\n",
      "2677/2677 - 323s - loss: 0.0216 - mean_squared_error: 0.0216 - val_loss: 0.0323 - val_mean_squared_error: 0.0323 - 323s/epoch - 121ms/step\n",
      "Epoch 39/50\n",
      "2677/2677 - 326s - loss: 0.0229 - mean_squared_error: 0.0229 - val_loss: 0.0570 - val_mean_squared_error: 0.0570 - 326s/epoch - 122ms/step\n",
      "Epoch 40/50\n",
      "2677/2677 - 329s - loss: 0.0225 - mean_squared_error: 0.0225 - val_loss: 0.0317 - val_mean_squared_error: 0.0317 - 329s/epoch - 123ms/step\n",
      "Epoch 41/50\n",
      "2677/2677 - 324s - loss: 0.0207 - mean_squared_error: 0.0207 - val_loss: 0.0319 - val_mean_squared_error: 0.0319 - 324s/epoch - 121ms/step\n",
      "Epoch 42/50\n",
      "2677/2677 - 308s - loss: 0.0208 - mean_squared_error: 0.0208 - val_loss: 0.0322 - val_mean_squared_error: 0.0322 - 308s/epoch - 115ms/step\n",
      "Epoch 43/50\n",
      "2677/2677 - 314s - loss: 0.0208 - mean_squared_error: 0.0208 - val_loss: 0.0325 - val_mean_squared_error: 0.0325 - 314s/epoch - 117ms/step\n",
      "Epoch 44/50\n",
      "2677/2677 - 315s - loss: 0.0204 - mean_squared_error: 0.0204 - val_loss: 0.0323 - val_mean_squared_error: 0.0323 - 315s/epoch - 118ms/step\n",
      "Epoch 45/50\n",
      "2677/2677 - 316s - loss: 0.0227 - mean_squared_error: 0.0227 - val_loss: 0.0312 - val_mean_squared_error: 0.0312 - 316s/epoch - 118ms/step\n",
      "Epoch 46/50\n",
      "2677/2677 - 315s - loss: 0.0201 - mean_squared_error: 0.0201 - val_loss: 0.0316 - val_mean_squared_error: 0.0316 - 315s/epoch - 118ms/step\n",
      "Epoch 47/50\n",
      "2677/2677 - 323s - loss: 0.0198 - mean_squared_error: 0.0198 - val_loss: 0.0325 - val_mean_squared_error: 0.0325 - 323s/epoch - 121ms/step\n",
      "Epoch 48/50\n",
      "2677/2677 - 318s - loss: 0.0197 - mean_squared_error: 0.0197 - val_loss: 0.0317 - val_mean_squared_error: 0.0317 - 318s/epoch - 119ms/step\n",
      "Epoch 49/50\n",
      "2677/2677 - 317s - loss: 0.0207 - mean_squared_error: 0.0207 - val_loss: 0.0317 - val_mean_squared_error: 0.0317 - 317s/epoch - 118ms/step\n",
      "Epoch 50/50\n",
      "2677/2677 - 318s - loss: 0.0193 - mean_squared_error: 0.0193 - val_loss: 0.0319 - val_mean_squared_error: 0.0319 - 318s/epoch - 119ms/step\n"
     ]
    }
   ],
   "source": [
    "history = mpnn.fit(\n",
    "    train_dataset,\n",
    "    validation_data=valid_dataset,\n",
    "    epochs=50,\n",
    "    verbose=2,)"
   ]
  },
  {
   "cell_type": "code",
   "execution_count": 29,
   "id": "b782ee60",
   "metadata": {},
   "outputs": [
    {
     "data": {
      "text/plain": [
       "<matplotlib.legend.Legend at 0x17a8677f0>"
      ]
     },
     "execution_count": 29,
     "metadata": {},
     "output_type": "execute_result"
    },
    {
     "data": {
      "image/png": "[encoded data removed]",
      "text/plain": [
       "<Figure size 720x432 with 1 Axes>"
      ]
     },
     "metadata": {
      "needs_background": "light"
     },
     "output_type": "display_data"
    }
   ],
   "source": [
    "plt.figure(figsize=(10, 6))\n",
    "plt.plot(history.history[\"loss\"], label=\"train loss\")\n",
    "plt.plot(history.history[\"val_loss\"], label=\"valid loss\")\n",
    "plt.xlabel(\"Epochs\", fontsize=16)\n",
    "plt.ylabel(\"loss\", fontsize=16)\n",
    "plt.legend(fontsize=16)"
   ]
  },
  {
   "cell_type": "code",
   "execution_count": 30,
   "id": "664a82ba",
   "metadata": {},
   "outputs": [
    {
     "name": "stderr",
     "output_type": "stream",
     "text": [
      "2022-02-23 04:31:03.185290: W tensorflow/python/util/util.cc:368] Sets are not currently considered sequences, but this may change in the future, so consider avoiding using them.\n",
      "WARNING:absl:Found untraced functions such as edge_network_layer_call_fn, edge_network_layer_call_and_return_conditional_losses, gru_cell_layer_call_fn, gru_cell_layer_call_and_return_conditional_losses, partition_padding_layer_call_fn while saving (showing 5 of 24). These functions will not be directly callable after loading.\n"
     ]
    },
    {
     "name": "stdout",
     "output_type": "stream",
     "text": [
      "INFO:tensorflow:Assets written to: ../model/mymodel-2/assets\n"
     ]
    },
    {
     "name": "stderr",
     "output_type": "stream",
     "text": [
      "INFO:tensorflow:Assets written to: ../model/mymodel-2/assets\n"
     ]
    }
   ],
   "source": [
    "mpnn.save('../model/mymodel-2')"
   ]
  },
  {
   "cell_type": "markdown",
   "id": "ec13a3d3",
   "metadata": {},
   "source": [
    "Make predictions on test set"
   ]
  },
  {
   "cell_type": "code",
   "execution_count": 31,
   "id": "2a2b3f69",
   "metadata": {},
   "outputs": [],
   "source": [
    "#mpnn = tf.keras.models.load_model('../model/mymodel-2')"
   ]
  },
  {
   "cell_type": "code",
   "execution_count": 32,
   "id": "f3cb8824",
   "metadata": {},
   "outputs": [],
   "source": [
    "columns = ['mu', 'alpha', 'homo', 'lumo', 'gap','r2', 'zpve', 'U0', 'U', 'H', 'G', 'Cv']\n",
    "y_pred = mpnn.predict(test_dataset)\n",
    "y_pred = scaler.inverse_transform(y_pred)\n",
    "y_pred = pd.DataFrame(y_pred, columns=columns)"
   ]
  },
  {
   "cell_type": "code",
   "execution_count": 33,
   "id": "439dec16",
   "metadata": {
    "scrolled": true
   },
   "outputs": [
    {
     "data": {
      "image/png": "[encoded data removed]",
      "text/plain": [
       "<Figure size 864x576 with 12 Axes>"
      ]
     },
     "metadata": {
      "needs_background": "light"
     },
     "output_type": "display_data"
    }
   ],
   "source": [
    "fig, axs = plt.subplots(3, 4, figsize=(12, 8))\n",
    "myx = 0\n",
    "myy = 0\n",
    "for name in columns:\n",
    "    axs[myx,myy].scatter(y_test[name], y_pred[name])\n",
    "    axs[myx,myy].plot([min(y_test[name]),max(y_test[name])],[min(y_test[name]),max(y_test[name])],c='orange')\n",
    "    axs[myx,myy].set_xlabel('True')\n",
    "    axs[myx,myy].set_ylabel('Predict')\n",
    "    axs[myx,myy].set_title(name)\n",
    "    \n",
    "    myy += 1\n",
    "    if myy == 4:\n",
    "        myy = 0\n",
    "        myx += 1\n",
    "        \n",
    "plt.tight_layout()"
   ]
  },
  {
   "cell_type": "code",
   "execution_count": 34,
   "id": "468149d3",
   "metadata": {},
   "outputs": [
    {
     "name": "stdout",
     "output_type": "stream",
     "text": [
      "property, rmse, r2\n",
      "mu 0.691911598898798 0.7956705604539906\n",
      "alpha 0.8663905016192166 0.9887993900105659\n",
      "homo 0.005504160656430128 0.9391894337730786\n",
      "lumo 0.006128408705014746 0.9829803260057379\n",
      "gap 0.008012741101238776 0.9716812416723661\n",
      "r2 53.3454954928163 0.9637080043310564\n",
      "zpve 0.0019136750592234672 0.9966964380157673\n",
      "U0 1.2737719143597799 0.9989937802729018\n",
      "U 1.2737406382387673 0.9989938184626703\n",
      "H 1.2737280635373618 0.9989938383292941\n",
      "G 1.2737167708486548 0.9989938930414557\n",
      "Cv 0.3953439171940228 0.9905560216566559\n"
     ]
    }
   ],
   "source": [
    "print('property, rmse, r2')\n",
    "for name in columns:\n",
    "    print(name,mean_squared_error(y_test[name], y_pred[name], squared=False),r2_score(y_test[name], y_pred[name]))"
   ]
  },
  {
   "cell_type": "code",
   "execution_count": null,
   "id": "081ef3ca",
   "metadata": {},
   "outputs": [],
   "source": []
  }
 ],
 "metadata": {
  "kernelspec": {
   "display_name": "Python 3 (ipykernel)",
   "language": "python",
   "name": "python3"
  },
  "language_info": {
   "codemirror_mode": {
    "name": "ipython",
    "version": 3
   },
   "file_extension": ".py",
   "mimetype": "text/x-python",
   "name": "python",
   "nbconvert_exporter": "python",
   "pygments_lexer": "ipython3",
   "version": "3.9.10"
  }
 },
 "nbformat": 4,
 "nbformat_minor": 5
}
